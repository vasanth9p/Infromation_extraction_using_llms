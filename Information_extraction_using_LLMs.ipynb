{
  "nbformat": 4,
  "nbformat_minor": 0,
  "metadata": {
    "colab": {
      "provenance": [],
      "machine_shape": "hm",
      "gpuType": "T4"
    },
    "kernelspec": {
      "name": "python3",
      "display_name": "Python 3"
    },
    "language_info": {
      "name": "python"
    },
    "accelerator": "GPU",
    "widgets": {
      "application/vnd.jupyter.widget-state+json": {
        "faca34862cf341dba67939e59139f64c": {
          "model_module": "@jupyter-widgets/controls",
          "model_name": "HBoxModel",
          "model_module_version": "1.5.0",
          "state": {
            "_dom_classes": [],
            "_model_module": "@jupyter-widgets/controls",
            "_model_module_version": "1.5.0",
            "_model_name": "HBoxModel",
            "_view_count": null,
            "_view_module": "@jupyter-widgets/controls",
            "_view_module_version": "1.5.0",
            "_view_name": "HBoxView",
            "box_style": "",
            "children": [
              "IPY_MODEL_22908f7d12cb43af891e482ddda16d9f",
              "IPY_MODEL_1b675c23b6764d2da9cd7445337fa963",
              "IPY_MODEL_66002cf98c9f4c258871bdb151deba10"
            ],
            "layout": "IPY_MODEL_69d49cded3374ea5993cf6491086fd5a"
          }
        },
        "22908f7d12cb43af891e482ddda16d9f": {
          "model_module": "@jupyter-widgets/controls",
          "model_name": "HTMLModel",
          "model_module_version": "1.5.0",
          "state": {
            "_dom_classes": [],
            "_model_module": "@jupyter-widgets/controls",
            "_model_module_version": "1.5.0",
            "_model_name": "HTMLModel",
            "_view_count": null,
            "_view_module": "@jupyter-widgets/controls",
            "_view_module_version": "1.5.0",
            "_view_name": "HTMLView",
            "description": "",
            "description_tooltip": null,
            "layout": "IPY_MODEL_6dba74ca1e51473f96281f400366294a",
            "placeholder": "​",
            "style": "IPY_MODEL_8b6b6960737c4e098d9a3d46dad9ac5b",
            "value": "tokenizer_config.json: 100%"
          }
        },
        "1b675c23b6764d2da9cd7445337fa963": {
          "model_module": "@jupyter-widgets/controls",
          "model_name": "FloatProgressModel",
          "model_module_version": "1.5.0",
          "state": {
            "_dom_classes": [],
            "_model_module": "@jupyter-widgets/controls",
            "_model_module_version": "1.5.0",
            "_model_name": "FloatProgressModel",
            "_view_count": null,
            "_view_module": "@jupyter-widgets/controls",
            "_view_module_version": "1.5.0",
            "_view_name": "ProgressView",
            "bar_style": "success",
            "description": "",
            "description_tooltip": null,
            "layout": "IPY_MODEL_491d136a1363493084cccc85742a6042",
            "max": 1467,
            "min": 0,
            "orientation": "horizontal",
            "style": "IPY_MODEL_292134b23a43455ebd78b94da46c995d",
            "value": 1467
          }
        },
        "66002cf98c9f4c258871bdb151deba10": {
          "model_module": "@jupyter-widgets/controls",
          "model_name": "HTMLModel",
          "model_module_version": "1.5.0",
          "state": {
            "_dom_classes": [],
            "_model_module": "@jupyter-widgets/controls",
            "_model_module_version": "1.5.0",
            "_model_name": "HTMLModel",
            "_view_count": null,
            "_view_module": "@jupyter-widgets/controls",
            "_view_module_version": "1.5.0",
            "_view_name": "HTMLView",
            "description": "",
            "description_tooltip": null,
            "layout": "IPY_MODEL_af80002c66fc44dba44140d0107e5faa",
            "placeholder": "​",
            "style": "IPY_MODEL_10f6d4a3803f46969e4d1ff26ca681fd",
            "value": " 1.47k/1.47k [00:00&lt;00:00, 110kB/s]"
          }
        },
        "69d49cded3374ea5993cf6491086fd5a": {
          "model_module": "@jupyter-widgets/base",
          "model_name": "LayoutModel",
          "model_module_version": "1.2.0",
          "state": {
            "_model_module": "@jupyter-widgets/base",
            "_model_module_version": "1.2.0",
            "_model_name": "LayoutModel",
            "_view_count": null,
            "_view_module": "@jupyter-widgets/base",
            "_view_module_version": "1.2.0",
            "_view_name": "LayoutView",
            "align_content": null,
            "align_items": null,
            "align_self": null,
            "border": null,
            "bottom": null,
            "display": null,
            "flex": null,
            "flex_flow": null,
            "grid_area": null,
            "grid_auto_columns": null,
            "grid_auto_flow": null,
            "grid_auto_rows": null,
            "grid_column": null,
            "grid_gap": null,
            "grid_row": null,
            "grid_template_areas": null,
            "grid_template_columns": null,
            "grid_template_rows": null,
            "height": null,
            "justify_content": null,
            "justify_items": null,
            "left": null,
            "margin": null,
            "max_height": null,
            "max_width": null,
            "min_height": null,
            "min_width": null,
            "object_fit": null,
            "object_position": null,
            "order": null,
            "overflow": null,
            "overflow_x": null,
            "overflow_y": null,
            "padding": null,
            "right": null,
            "top": null,
            "visibility": null,
            "width": null
          }
        },
        "6dba74ca1e51473f96281f400366294a": {
          "model_module": "@jupyter-widgets/base",
          "model_name": "LayoutModel",
          "model_module_version": "1.2.0",
          "state": {
            "_model_module": "@jupyter-widgets/base",
            "_model_module_version": "1.2.0",
            "_model_name": "LayoutModel",
            "_view_count": null,
            "_view_module": "@jupyter-widgets/base",
            "_view_module_version": "1.2.0",
            "_view_name": "LayoutView",
            "align_content": null,
            "align_items": null,
            "align_self": null,
            "border": null,
            "bottom": null,
            "display": null,
            "flex": null,
            "flex_flow": null,
            "grid_area": null,
            "grid_auto_columns": null,
            "grid_auto_flow": null,
            "grid_auto_rows": null,
            "grid_column": null,
            "grid_gap": null,
            "grid_row": null,
            "grid_template_areas": null,
            "grid_template_columns": null,
            "grid_template_rows": null,
            "height": null,
            "justify_content": null,
            "justify_items": null,
            "left": null,
            "margin": null,
            "max_height": null,
            "max_width": null,
            "min_height": null,
            "min_width": null,
            "object_fit": null,
            "object_position": null,
            "order": null,
            "overflow": null,
            "overflow_x": null,
            "overflow_y": null,
            "padding": null,
            "right": null,
            "top": null,
            "visibility": null,
            "width": null
          }
        },
        "8b6b6960737c4e098d9a3d46dad9ac5b": {
          "model_module": "@jupyter-widgets/controls",
          "model_name": "DescriptionStyleModel",
          "model_module_version": "1.5.0",
          "state": {
            "_model_module": "@jupyter-widgets/controls",
            "_model_module_version": "1.5.0",
            "_model_name": "DescriptionStyleModel",
            "_view_count": null,
            "_view_module": "@jupyter-widgets/base",
            "_view_module_version": "1.2.0",
            "_view_name": "StyleView",
            "description_width": ""
          }
        },
        "491d136a1363493084cccc85742a6042": {
          "model_module": "@jupyter-widgets/base",
          "model_name": "LayoutModel",
          "model_module_version": "1.2.0",
          "state": {
            "_model_module": "@jupyter-widgets/base",
            "_model_module_version": "1.2.0",
            "_model_name": "LayoutModel",
            "_view_count": null,
            "_view_module": "@jupyter-widgets/base",
            "_view_module_version": "1.2.0",
            "_view_name": "LayoutView",
            "align_content": null,
            "align_items": null,
            "align_self": null,
            "border": null,
            "bottom": null,
            "display": null,
            "flex": null,
            "flex_flow": null,
            "grid_area": null,
            "grid_auto_columns": null,
            "grid_auto_flow": null,
            "grid_auto_rows": null,
            "grid_column": null,
            "grid_gap": null,
            "grid_row": null,
            "grid_template_areas": null,
            "grid_template_columns": null,
            "grid_template_rows": null,
            "height": null,
            "justify_content": null,
            "justify_items": null,
            "left": null,
            "margin": null,
            "max_height": null,
            "max_width": null,
            "min_height": null,
            "min_width": null,
            "object_fit": null,
            "object_position": null,
            "order": null,
            "overflow": null,
            "overflow_x": null,
            "overflow_y": null,
            "padding": null,
            "right": null,
            "top": null,
            "visibility": null,
            "width": null
          }
        },
        "292134b23a43455ebd78b94da46c995d": {
          "model_module": "@jupyter-widgets/controls",
          "model_name": "ProgressStyleModel",
          "model_module_version": "1.5.0",
          "state": {
            "_model_module": "@jupyter-widgets/controls",
            "_model_module_version": "1.5.0",
            "_model_name": "ProgressStyleModel",
            "_view_count": null,
            "_view_module": "@jupyter-widgets/base",
            "_view_module_version": "1.2.0",
            "_view_name": "StyleView",
            "bar_color": null,
            "description_width": ""
          }
        },
        "af80002c66fc44dba44140d0107e5faa": {
          "model_module": "@jupyter-widgets/base",
          "model_name": "LayoutModel",
          "model_module_version": "1.2.0",
          "state": {
            "_model_module": "@jupyter-widgets/base",
            "_model_module_version": "1.2.0",
            "_model_name": "LayoutModel",
            "_view_count": null,
            "_view_module": "@jupyter-widgets/base",
            "_view_module_version": "1.2.0",
            "_view_name": "LayoutView",
            "align_content": null,
            "align_items": null,
            "align_self": null,
            "border": null,
            "bottom": null,
            "display": null,
            "flex": null,
            "flex_flow": null,
            "grid_area": null,
            "grid_auto_columns": null,
            "grid_auto_flow": null,
            "grid_auto_rows": null,
            "grid_column": null,
            "grid_gap": null,
            "grid_row": null,
            "grid_template_areas": null,
            "grid_template_columns": null,
            "grid_template_rows": null,
            "height": null,
            "justify_content": null,
            "justify_items": null,
            "left": null,
            "margin": null,
            "max_height": null,
            "max_width": null,
            "min_height": null,
            "min_width": null,
            "object_fit": null,
            "object_position": null,
            "order": null,
            "overflow": null,
            "overflow_x": null,
            "overflow_y": null,
            "padding": null,
            "right": null,
            "top": null,
            "visibility": null,
            "width": null
          }
        },
        "10f6d4a3803f46969e4d1ff26ca681fd": {
          "model_module": "@jupyter-widgets/controls",
          "model_name": "DescriptionStyleModel",
          "model_module_version": "1.5.0",
          "state": {
            "_model_module": "@jupyter-widgets/controls",
            "_model_module_version": "1.5.0",
            "_model_name": "DescriptionStyleModel",
            "_view_count": null,
            "_view_module": "@jupyter-widgets/base",
            "_view_module_version": "1.2.0",
            "_view_name": "StyleView",
            "description_width": ""
          }
        },
        "29626677aaf24200a1e7630b9826fb40": {
          "model_module": "@jupyter-widgets/controls",
          "model_name": "HBoxModel",
          "model_module_version": "1.5.0",
          "state": {
            "_dom_classes": [],
            "_model_module": "@jupyter-widgets/controls",
            "_model_module_version": "1.5.0",
            "_model_name": "HBoxModel",
            "_view_count": null,
            "_view_module": "@jupyter-widgets/controls",
            "_view_module_version": "1.5.0",
            "_view_name": "HBoxView",
            "box_style": "",
            "children": [
              "IPY_MODEL_33803b45dd7e447da0d772db4d7c32a8",
              "IPY_MODEL_028e615678d84dac97862afc51e77968",
              "IPY_MODEL_e1e330975fce42909637dfc99f96dadd"
            ],
            "layout": "IPY_MODEL_d69b5ad6b6874ed6a97cd8048cff157f"
          }
        },
        "33803b45dd7e447da0d772db4d7c32a8": {
          "model_module": "@jupyter-widgets/controls",
          "model_name": "HTMLModel",
          "model_module_version": "1.5.0",
          "state": {
            "_dom_classes": [],
            "_model_module": "@jupyter-widgets/controls",
            "_model_module_version": "1.5.0",
            "_model_name": "HTMLModel",
            "_view_count": null,
            "_view_module": "@jupyter-widgets/controls",
            "_view_module_version": "1.5.0",
            "_view_name": "HTMLView",
            "description": "",
            "description_tooltip": null,
            "layout": "IPY_MODEL_728cddd4189146cea1efdbb7c2d0e049",
            "placeholder": "​",
            "style": "IPY_MODEL_c43bdeb00c7b488dad616347076e6c0c",
            "value": "tokenizer.model: 100%"
          }
        },
        "028e615678d84dac97862afc51e77968": {
          "model_module": "@jupyter-widgets/controls",
          "model_name": "FloatProgressModel",
          "model_module_version": "1.5.0",
          "state": {
            "_dom_classes": [],
            "_model_module": "@jupyter-widgets/controls",
            "_model_module_version": "1.5.0",
            "_model_name": "FloatProgressModel",
            "_view_count": null,
            "_view_module": "@jupyter-widgets/controls",
            "_view_module_version": "1.5.0",
            "_view_name": "ProgressView",
            "bar_style": "success",
            "description": "",
            "description_tooltip": null,
            "layout": "IPY_MODEL_9b1c8244dc404cc9a3d1ae779e23f731",
            "max": 493443,
            "min": 0,
            "orientation": "horizontal",
            "style": "IPY_MODEL_34ff2d6fee464a0d8b55af07bcfe3506",
            "value": 493443
          }
        },
        "e1e330975fce42909637dfc99f96dadd": {
          "model_module": "@jupyter-widgets/controls",
          "model_name": "HTMLModel",
          "model_module_version": "1.5.0",
          "state": {
            "_dom_classes": [],
            "_model_module": "@jupyter-widgets/controls",
            "_model_module_version": "1.5.0",
            "_model_name": "HTMLModel",
            "_view_count": null,
            "_view_module": "@jupyter-widgets/controls",
            "_view_module_version": "1.5.0",
            "_view_name": "HTMLView",
            "description": "",
            "description_tooltip": null,
            "layout": "IPY_MODEL_a144a46f093d4834920548415f12ce93",
            "placeholder": "​",
            "style": "IPY_MODEL_3009a9e25c704fdd85a9e4af89ff5a29",
            "value": " 493k/493k [00:00&lt;00:00, 16.1MB/s]"
          }
        },
        "d69b5ad6b6874ed6a97cd8048cff157f": {
          "model_module": "@jupyter-widgets/base",
          "model_name": "LayoutModel",
          "model_module_version": "1.2.0",
          "state": {
            "_model_module": "@jupyter-widgets/base",
            "_model_module_version": "1.2.0",
            "_model_name": "LayoutModel",
            "_view_count": null,
            "_view_module": "@jupyter-widgets/base",
            "_view_module_version": "1.2.0",
            "_view_name": "LayoutView",
            "align_content": null,
            "align_items": null,
            "align_self": null,
            "border": null,
            "bottom": null,
            "display": null,
            "flex": null,
            "flex_flow": null,
            "grid_area": null,
            "grid_auto_columns": null,
            "grid_auto_flow": null,
            "grid_auto_rows": null,
            "grid_column": null,
            "grid_gap": null,
            "grid_row": null,
            "grid_template_areas": null,
            "grid_template_columns": null,
            "grid_template_rows": null,
            "height": null,
            "justify_content": null,
            "justify_items": null,
            "left": null,
            "margin": null,
            "max_height": null,
            "max_width": null,
            "min_height": null,
            "min_width": null,
            "object_fit": null,
            "object_position": null,
            "order": null,
            "overflow": null,
            "overflow_x": null,
            "overflow_y": null,
            "padding": null,
            "right": null,
            "top": null,
            "visibility": null,
            "width": null
          }
        },
        "728cddd4189146cea1efdbb7c2d0e049": {
          "model_module": "@jupyter-widgets/base",
          "model_name": "LayoutModel",
          "model_module_version": "1.2.0",
          "state": {
            "_model_module": "@jupyter-widgets/base",
            "_model_module_version": "1.2.0",
            "_model_name": "LayoutModel",
            "_view_count": null,
            "_view_module": "@jupyter-widgets/base",
            "_view_module_version": "1.2.0",
            "_view_name": "LayoutView",
            "align_content": null,
            "align_items": null,
            "align_self": null,
            "border": null,
            "bottom": null,
            "display": null,
            "flex": null,
            "flex_flow": null,
            "grid_area": null,
            "grid_auto_columns": null,
            "grid_auto_flow": null,
            "grid_auto_rows": null,
            "grid_column": null,
            "grid_gap": null,
            "grid_row": null,
            "grid_template_areas": null,
            "grid_template_columns": null,
            "grid_template_rows": null,
            "height": null,
            "justify_content": null,
            "justify_items": null,
            "left": null,
            "margin": null,
            "max_height": null,
            "max_width": null,
            "min_height": null,
            "min_width": null,
            "object_fit": null,
            "object_position": null,
            "order": null,
            "overflow": null,
            "overflow_x": null,
            "overflow_y": null,
            "padding": null,
            "right": null,
            "top": null,
            "visibility": null,
            "width": null
          }
        },
        "c43bdeb00c7b488dad616347076e6c0c": {
          "model_module": "@jupyter-widgets/controls",
          "model_name": "DescriptionStyleModel",
          "model_module_version": "1.5.0",
          "state": {
            "_model_module": "@jupyter-widgets/controls",
            "_model_module_version": "1.5.0",
            "_model_name": "DescriptionStyleModel",
            "_view_count": null,
            "_view_module": "@jupyter-widgets/base",
            "_view_module_version": "1.2.0",
            "_view_name": "StyleView",
            "description_width": ""
          }
        },
        "9b1c8244dc404cc9a3d1ae779e23f731": {
          "model_module": "@jupyter-widgets/base",
          "model_name": "LayoutModel",
          "model_module_version": "1.2.0",
          "state": {
            "_model_module": "@jupyter-widgets/base",
            "_model_module_version": "1.2.0",
            "_model_name": "LayoutModel",
            "_view_count": null,
            "_view_module": "@jupyter-widgets/base",
            "_view_module_version": "1.2.0",
            "_view_name": "LayoutView",
            "align_content": null,
            "align_items": null,
            "align_self": null,
            "border": null,
            "bottom": null,
            "display": null,
            "flex": null,
            "flex_flow": null,
            "grid_area": null,
            "grid_auto_columns": null,
            "grid_auto_flow": null,
            "grid_auto_rows": null,
            "grid_column": null,
            "grid_gap": null,
            "grid_row": null,
            "grid_template_areas": null,
            "grid_template_columns": null,
            "grid_template_rows": null,
            "height": null,
            "justify_content": null,
            "justify_items": null,
            "left": null,
            "margin": null,
            "max_height": null,
            "max_width": null,
            "min_height": null,
            "min_width": null,
            "object_fit": null,
            "object_position": null,
            "order": null,
            "overflow": null,
            "overflow_x": null,
            "overflow_y": null,
            "padding": null,
            "right": null,
            "top": null,
            "visibility": null,
            "width": null
          }
        },
        "34ff2d6fee464a0d8b55af07bcfe3506": {
          "model_module": "@jupyter-widgets/controls",
          "model_name": "ProgressStyleModel",
          "model_module_version": "1.5.0",
          "state": {
            "_model_module": "@jupyter-widgets/controls",
            "_model_module_version": "1.5.0",
            "_model_name": "ProgressStyleModel",
            "_view_count": null,
            "_view_module": "@jupyter-widgets/base",
            "_view_module_version": "1.2.0",
            "_view_name": "StyleView",
            "bar_color": null,
            "description_width": ""
          }
        },
        "a144a46f093d4834920548415f12ce93": {
          "model_module": "@jupyter-widgets/base",
          "model_name": "LayoutModel",
          "model_module_version": "1.2.0",
          "state": {
            "_model_module": "@jupyter-widgets/base",
            "_model_module_version": "1.2.0",
            "_model_name": "LayoutModel",
            "_view_count": null,
            "_view_module": "@jupyter-widgets/base",
            "_view_module_version": "1.2.0",
            "_view_name": "LayoutView",
            "align_content": null,
            "align_items": null,
            "align_self": null,
            "border": null,
            "bottom": null,
            "display": null,
            "flex": null,
            "flex_flow": null,
            "grid_area": null,
            "grid_auto_columns": null,
            "grid_auto_flow": null,
            "grid_auto_rows": null,
            "grid_column": null,
            "grid_gap": null,
            "grid_row": null,
            "grid_template_areas": null,
            "grid_template_columns": null,
            "grid_template_rows": null,
            "height": null,
            "justify_content": null,
            "justify_items": null,
            "left": null,
            "margin": null,
            "max_height": null,
            "max_width": null,
            "min_height": null,
            "min_width": null,
            "object_fit": null,
            "object_position": null,
            "order": null,
            "overflow": null,
            "overflow_x": null,
            "overflow_y": null,
            "padding": null,
            "right": null,
            "top": null,
            "visibility": null,
            "width": null
          }
        },
        "3009a9e25c704fdd85a9e4af89ff5a29": {
          "model_module": "@jupyter-widgets/controls",
          "model_name": "DescriptionStyleModel",
          "model_module_version": "1.5.0",
          "state": {
            "_model_module": "@jupyter-widgets/controls",
            "_model_module_version": "1.5.0",
            "_model_name": "DescriptionStyleModel",
            "_view_count": null,
            "_view_module": "@jupyter-widgets/base",
            "_view_module_version": "1.2.0",
            "_view_name": "StyleView",
            "description_width": ""
          }
        },
        "c347492c34064959a0ca4195091d65c9": {
          "model_module": "@jupyter-widgets/controls",
          "model_name": "HBoxModel",
          "model_module_version": "1.5.0",
          "state": {
            "_dom_classes": [],
            "_model_module": "@jupyter-widgets/controls",
            "_model_module_version": "1.5.0",
            "_model_name": "HBoxModel",
            "_view_count": null,
            "_view_module": "@jupyter-widgets/controls",
            "_view_module_version": "1.5.0",
            "_view_name": "HBoxView",
            "box_style": "",
            "children": [
              "IPY_MODEL_2e326bfcfb7d48cb83ff1bd769509e01",
              "IPY_MODEL_a44bd7acd8c740ab8f323a499c5df029",
              "IPY_MODEL_c3be459814c44818a90b0e6606938849"
            ],
            "layout": "IPY_MODEL_56cfb083c75e4b778ea0dd58967aaa07"
          }
        },
        "2e326bfcfb7d48cb83ff1bd769509e01": {
          "model_module": "@jupyter-widgets/controls",
          "model_name": "HTMLModel",
          "model_module_version": "1.5.0",
          "state": {
            "_dom_classes": [],
            "_model_module": "@jupyter-widgets/controls",
            "_model_module_version": "1.5.0",
            "_model_name": "HTMLModel",
            "_view_count": null,
            "_view_module": "@jupyter-widgets/controls",
            "_view_module_version": "1.5.0",
            "_view_name": "HTMLView",
            "description": "",
            "description_tooltip": null,
            "layout": "IPY_MODEL_69336a2c8ed94911a1d05e0e3724b141",
            "placeholder": "​",
            "style": "IPY_MODEL_7ecb8f7a3d0149a59b769b32bec91eba",
            "value": "tokenizer.json: 100%"
          }
        },
        "a44bd7acd8c740ab8f323a499c5df029": {
          "model_module": "@jupyter-widgets/controls",
          "model_name": "FloatProgressModel",
          "model_module_version": "1.5.0",
          "state": {
            "_dom_classes": [],
            "_model_module": "@jupyter-widgets/controls",
            "_model_module_version": "1.5.0",
            "_model_name": "FloatProgressModel",
            "_view_count": null,
            "_view_module": "@jupyter-widgets/controls",
            "_view_module_version": "1.5.0",
            "_view_name": "ProgressView",
            "bar_style": "success",
            "description": "",
            "description_tooltip": null,
            "layout": "IPY_MODEL_0f0ef3e538da4ca18a9e62b9a7208729",
            "max": 1795303,
            "min": 0,
            "orientation": "horizontal",
            "style": "IPY_MODEL_33da1d60bcd5465095b827bc514713c5",
            "value": 1795303
          }
        },
        "c3be459814c44818a90b0e6606938849": {
          "model_module": "@jupyter-widgets/controls",
          "model_name": "HTMLModel",
          "model_module_version": "1.5.0",
          "state": {
            "_dom_classes": [],
            "_model_module": "@jupyter-widgets/controls",
            "_model_module_version": "1.5.0",
            "_model_name": "HTMLModel",
            "_view_count": null,
            "_view_module": "@jupyter-widgets/controls",
            "_view_module_version": "1.5.0",
            "_view_name": "HTMLView",
            "description": "",
            "description_tooltip": null,
            "layout": "IPY_MODEL_69ca89411e3b4f45877297dc2c7bee71",
            "placeholder": "​",
            "style": "IPY_MODEL_4cd447f3ab414820ad5eeb9b928b9590",
            "value": " 1.80M/1.80M [00:00&lt;00:00, 4.43MB/s]"
          }
        },
        "56cfb083c75e4b778ea0dd58967aaa07": {
          "model_module": "@jupyter-widgets/base",
          "model_name": "LayoutModel",
          "model_module_version": "1.2.0",
          "state": {
            "_model_module": "@jupyter-widgets/base",
            "_model_module_version": "1.2.0",
            "_model_name": "LayoutModel",
            "_view_count": null,
            "_view_module": "@jupyter-widgets/base",
            "_view_module_version": "1.2.0",
            "_view_name": "LayoutView",
            "align_content": null,
            "align_items": null,
            "align_self": null,
            "border": null,
            "bottom": null,
            "display": null,
            "flex": null,
            "flex_flow": null,
            "grid_area": null,
            "grid_auto_columns": null,
            "grid_auto_flow": null,
            "grid_auto_rows": null,
            "grid_column": null,
            "grid_gap": null,
            "grid_row": null,
            "grid_template_areas": null,
            "grid_template_columns": null,
            "grid_template_rows": null,
            "height": null,
            "justify_content": null,
            "justify_items": null,
            "left": null,
            "margin": null,
            "max_height": null,
            "max_width": null,
            "min_height": null,
            "min_width": null,
            "object_fit": null,
            "object_position": null,
            "order": null,
            "overflow": null,
            "overflow_x": null,
            "overflow_y": null,
            "padding": null,
            "right": null,
            "top": null,
            "visibility": null,
            "width": null
          }
        },
        "69336a2c8ed94911a1d05e0e3724b141": {
          "model_module": "@jupyter-widgets/base",
          "model_name": "LayoutModel",
          "model_module_version": "1.2.0",
          "state": {
            "_model_module": "@jupyter-widgets/base",
            "_model_module_version": "1.2.0",
            "_model_name": "LayoutModel",
            "_view_count": null,
            "_view_module": "@jupyter-widgets/base",
            "_view_module_version": "1.2.0",
            "_view_name": "LayoutView",
            "align_content": null,
            "align_items": null,
            "align_self": null,
            "border": null,
            "bottom": null,
            "display": null,
            "flex": null,
            "flex_flow": null,
            "grid_area": null,
            "grid_auto_columns": null,
            "grid_auto_flow": null,
            "grid_auto_rows": null,
            "grid_column": null,
            "grid_gap": null,
            "grid_row": null,
            "grid_template_areas": null,
            "grid_template_columns": null,
            "grid_template_rows": null,
            "height": null,
            "justify_content": null,
            "justify_items": null,
            "left": null,
            "margin": null,
            "max_height": null,
            "max_width": null,
            "min_height": null,
            "min_width": null,
            "object_fit": null,
            "object_position": null,
            "order": null,
            "overflow": null,
            "overflow_x": null,
            "overflow_y": null,
            "padding": null,
            "right": null,
            "top": null,
            "visibility": null,
            "width": null
          }
        },
        "7ecb8f7a3d0149a59b769b32bec91eba": {
          "model_module": "@jupyter-widgets/controls",
          "model_name": "DescriptionStyleModel",
          "model_module_version": "1.5.0",
          "state": {
            "_model_module": "@jupyter-widgets/controls",
            "_model_module_version": "1.5.0",
            "_model_name": "DescriptionStyleModel",
            "_view_count": null,
            "_view_module": "@jupyter-widgets/base",
            "_view_module_version": "1.2.0",
            "_view_name": "StyleView",
            "description_width": ""
          }
        },
        "0f0ef3e538da4ca18a9e62b9a7208729": {
          "model_module": "@jupyter-widgets/base",
          "model_name": "LayoutModel",
          "model_module_version": "1.2.0",
          "state": {
            "_model_module": "@jupyter-widgets/base",
            "_model_module_version": "1.2.0",
            "_model_name": "LayoutModel",
            "_view_count": null,
            "_view_module": "@jupyter-widgets/base",
            "_view_module_version": "1.2.0",
            "_view_name": "LayoutView",
            "align_content": null,
            "align_items": null,
            "align_self": null,
            "border": null,
            "bottom": null,
            "display": null,
            "flex": null,
            "flex_flow": null,
            "grid_area": null,
            "grid_auto_columns": null,
            "grid_auto_flow": null,
            "grid_auto_rows": null,
            "grid_column": null,
            "grid_gap": null,
            "grid_row": null,
            "grid_template_areas": null,
            "grid_template_columns": null,
            "grid_template_rows": null,
            "height": null,
            "justify_content": null,
            "justify_items": null,
            "left": null,
            "margin": null,
            "max_height": null,
            "max_width": null,
            "min_height": null,
            "min_width": null,
            "object_fit": null,
            "object_position": null,
            "order": null,
            "overflow": null,
            "overflow_x": null,
            "overflow_y": null,
            "padding": null,
            "right": null,
            "top": null,
            "visibility": null,
            "width": null
          }
        },
        "33da1d60bcd5465095b827bc514713c5": {
          "model_module": "@jupyter-widgets/controls",
          "model_name": "ProgressStyleModel",
          "model_module_version": "1.5.0",
          "state": {
            "_model_module": "@jupyter-widgets/controls",
            "_model_module_version": "1.5.0",
            "_model_name": "ProgressStyleModel",
            "_view_count": null,
            "_view_module": "@jupyter-widgets/base",
            "_view_module_version": "1.2.0",
            "_view_name": "StyleView",
            "bar_color": null,
            "description_width": ""
          }
        },
        "69ca89411e3b4f45877297dc2c7bee71": {
          "model_module": "@jupyter-widgets/base",
          "model_name": "LayoutModel",
          "model_module_version": "1.2.0",
          "state": {
            "_model_module": "@jupyter-widgets/base",
            "_model_module_version": "1.2.0",
            "_model_name": "LayoutModel",
            "_view_count": null,
            "_view_module": "@jupyter-widgets/base",
            "_view_module_version": "1.2.0",
            "_view_name": "LayoutView",
            "align_content": null,
            "align_items": null,
            "align_self": null,
            "border": null,
            "bottom": null,
            "display": null,
            "flex": null,
            "flex_flow": null,
            "grid_area": null,
            "grid_auto_columns": null,
            "grid_auto_flow": null,
            "grid_auto_rows": null,
            "grid_column": null,
            "grid_gap": null,
            "grid_row": null,
            "grid_template_areas": null,
            "grid_template_columns": null,
            "grid_template_rows": null,
            "height": null,
            "justify_content": null,
            "justify_items": null,
            "left": null,
            "margin": null,
            "max_height": null,
            "max_width": null,
            "min_height": null,
            "min_width": null,
            "object_fit": null,
            "object_position": null,
            "order": null,
            "overflow": null,
            "overflow_x": null,
            "overflow_y": null,
            "padding": null,
            "right": null,
            "top": null,
            "visibility": null,
            "width": null
          }
        },
        "4cd447f3ab414820ad5eeb9b928b9590": {
          "model_module": "@jupyter-widgets/controls",
          "model_name": "DescriptionStyleModel",
          "model_module_version": "1.5.0",
          "state": {
            "_model_module": "@jupyter-widgets/controls",
            "_model_module_version": "1.5.0",
            "_model_name": "DescriptionStyleModel",
            "_view_count": null,
            "_view_module": "@jupyter-widgets/base",
            "_view_module_version": "1.2.0",
            "_view_name": "StyleView",
            "description_width": ""
          }
        },
        "fe881228d43e412b802710d4d654e349": {
          "model_module": "@jupyter-widgets/controls",
          "model_name": "HBoxModel",
          "model_module_version": "1.5.0",
          "state": {
            "_dom_classes": [],
            "_model_module": "@jupyter-widgets/controls",
            "_model_module_version": "1.5.0",
            "_model_name": "HBoxModel",
            "_view_count": null,
            "_view_module": "@jupyter-widgets/controls",
            "_view_module_version": "1.5.0",
            "_view_name": "HBoxView",
            "box_style": "",
            "children": [
              "IPY_MODEL_ce36af7875ff402e828accd1e1e83ca9",
              "IPY_MODEL_9e67c8f5c08b402fbacdf4614bcc967c",
              "IPY_MODEL_a3617fdcddcc4b96bea412239e862f77"
            ],
            "layout": "IPY_MODEL_5f818fb14fe54eb4ae2696d3d9e36260"
          }
        },
        "ce36af7875ff402e828accd1e1e83ca9": {
          "model_module": "@jupyter-widgets/controls",
          "model_name": "HTMLModel",
          "model_module_version": "1.5.0",
          "state": {
            "_dom_classes": [],
            "_model_module": "@jupyter-widgets/controls",
            "_model_module_version": "1.5.0",
            "_model_name": "HTMLModel",
            "_view_count": null,
            "_view_module": "@jupyter-widgets/controls",
            "_view_module_version": "1.5.0",
            "_view_name": "HTMLView",
            "description": "",
            "description_tooltip": null,
            "layout": "IPY_MODEL_6cd5893f890d4ed68a970142c1047fa1",
            "placeholder": "​",
            "style": "IPY_MODEL_f1ca471a8d8a4a91bf26d16fc8f182d0",
            "value": "special_tokens_map.json: 100%"
          }
        },
        "9e67c8f5c08b402fbacdf4614bcc967c": {
          "model_module": "@jupyter-widgets/controls",
          "model_name": "FloatProgressModel",
          "model_module_version": "1.5.0",
          "state": {
            "_dom_classes": [],
            "_model_module": "@jupyter-widgets/controls",
            "_model_module_version": "1.5.0",
            "_model_name": "FloatProgressModel",
            "_view_count": null,
            "_view_module": "@jupyter-widgets/controls",
            "_view_module_version": "1.5.0",
            "_view_name": "ProgressView",
            "bar_style": "success",
            "description": "",
            "description_tooltip": null,
            "layout": "IPY_MODEL_5a8e1fbaf3c54c5db0ce80b06fdfe102",
            "max": 72,
            "min": 0,
            "orientation": "horizontal",
            "style": "IPY_MODEL_857afc431dcc4ae39d00f0fced5ca5e9",
            "value": 72
          }
        },
        "a3617fdcddcc4b96bea412239e862f77": {
          "model_module": "@jupyter-widgets/controls",
          "model_name": "HTMLModel",
          "model_module_version": "1.5.0",
          "state": {
            "_dom_classes": [],
            "_model_module": "@jupyter-widgets/controls",
            "_model_module_version": "1.5.0",
            "_model_name": "HTMLModel",
            "_view_count": null,
            "_view_module": "@jupyter-widgets/controls",
            "_view_module_version": "1.5.0",
            "_view_name": "HTMLView",
            "description": "",
            "description_tooltip": null,
            "layout": "IPY_MODEL_833db1b00ff1484a8cc37d3d61a9bf0f",
            "placeholder": "​",
            "style": "IPY_MODEL_432383530a4f41ec88c8992efbdfc347",
            "value": " 72.0/72.0 [00:00&lt;00:00, 5.69kB/s]"
          }
        },
        "5f818fb14fe54eb4ae2696d3d9e36260": {
          "model_module": "@jupyter-widgets/base",
          "model_name": "LayoutModel",
          "model_module_version": "1.2.0",
          "state": {
            "_model_module": "@jupyter-widgets/base",
            "_model_module_version": "1.2.0",
            "_model_name": "LayoutModel",
            "_view_count": null,
            "_view_module": "@jupyter-widgets/base",
            "_view_module_version": "1.2.0",
            "_view_name": "LayoutView",
            "align_content": null,
            "align_items": null,
            "align_self": null,
            "border": null,
            "bottom": null,
            "display": null,
            "flex": null,
            "flex_flow": null,
            "grid_area": null,
            "grid_auto_columns": null,
            "grid_auto_flow": null,
            "grid_auto_rows": null,
            "grid_column": null,
            "grid_gap": null,
            "grid_row": null,
            "grid_template_areas": null,
            "grid_template_columns": null,
            "grid_template_rows": null,
            "height": null,
            "justify_content": null,
            "justify_items": null,
            "left": null,
            "margin": null,
            "max_height": null,
            "max_width": null,
            "min_height": null,
            "min_width": null,
            "object_fit": null,
            "object_position": null,
            "order": null,
            "overflow": null,
            "overflow_x": null,
            "overflow_y": null,
            "padding": null,
            "right": null,
            "top": null,
            "visibility": null,
            "width": null
          }
        },
        "6cd5893f890d4ed68a970142c1047fa1": {
          "model_module": "@jupyter-widgets/base",
          "model_name": "LayoutModel",
          "model_module_version": "1.2.0",
          "state": {
            "_model_module": "@jupyter-widgets/base",
            "_model_module_version": "1.2.0",
            "_model_name": "LayoutModel",
            "_view_count": null,
            "_view_module": "@jupyter-widgets/base",
            "_view_module_version": "1.2.0",
            "_view_name": "LayoutView",
            "align_content": null,
            "align_items": null,
            "align_self": null,
            "border": null,
            "bottom": null,
            "display": null,
            "flex": null,
            "flex_flow": null,
            "grid_area": null,
            "grid_auto_columns": null,
            "grid_auto_flow": null,
            "grid_auto_rows": null,
            "grid_column": null,
            "grid_gap": null,
            "grid_row": null,
            "grid_template_areas": null,
            "grid_template_columns": null,
            "grid_template_rows": null,
            "height": null,
            "justify_content": null,
            "justify_items": null,
            "left": null,
            "margin": null,
            "max_height": null,
            "max_width": null,
            "min_height": null,
            "min_width": null,
            "object_fit": null,
            "object_position": null,
            "order": null,
            "overflow": null,
            "overflow_x": null,
            "overflow_y": null,
            "padding": null,
            "right": null,
            "top": null,
            "visibility": null,
            "width": null
          }
        },
        "f1ca471a8d8a4a91bf26d16fc8f182d0": {
          "model_module": "@jupyter-widgets/controls",
          "model_name": "DescriptionStyleModel",
          "model_module_version": "1.5.0",
          "state": {
            "_model_module": "@jupyter-widgets/controls",
            "_model_module_version": "1.5.0",
            "_model_name": "DescriptionStyleModel",
            "_view_count": null,
            "_view_module": "@jupyter-widgets/base",
            "_view_module_version": "1.2.0",
            "_view_name": "StyleView",
            "description_width": ""
          }
        },
        "5a8e1fbaf3c54c5db0ce80b06fdfe102": {
          "model_module": "@jupyter-widgets/base",
          "model_name": "LayoutModel",
          "model_module_version": "1.2.0",
          "state": {
            "_model_module": "@jupyter-widgets/base",
            "_model_module_version": "1.2.0",
            "_model_name": "LayoutModel",
            "_view_count": null,
            "_view_module": "@jupyter-widgets/base",
            "_view_module_version": "1.2.0",
            "_view_name": "LayoutView",
            "align_content": null,
            "align_items": null,
            "align_self": null,
            "border": null,
            "bottom": null,
            "display": null,
            "flex": null,
            "flex_flow": null,
            "grid_area": null,
            "grid_auto_columns": null,
            "grid_auto_flow": null,
            "grid_auto_rows": null,
            "grid_column": null,
            "grid_gap": null,
            "grid_row": null,
            "grid_template_areas": null,
            "grid_template_columns": null,
            "grid_template_rows": null,
            "height": null,
            "justify_content": null,
            "justify_items": null,
            "left": null,
            "margin": null,
            "max_height": null,
            "max_width": null,
            "min_height": null,
            "min_width": null,
            "object_fit": null,
            "object_position": null,
            "order": null,
            "overflow": null,
            "overflow_x": null,
            "overflow_y": null,
            "padding": null,
            "right": null,
            "top": null,
            "visibility": null,
            "width": null
          }
        },
        "857afc431dcc4ae39d00f0fced5ca5e9": {
          "model_module": "@jupyter-widgets/controls",
          "model_name": "ProgressStyleModel",
          "model_module_version": "1.5.0",
          "state": {
            "_model_module": "@jupyter-widgets/controls",
            "_model_module_version": "1.5.0",
            "_model_name": "ProgressStyleModel",
            "_view_count": null,
            "_view_module": "@jupyter-widgets/base",
            "_view_module_version": "1.2.0",
            "_view_name": "StyleView",
            "bar_color": null,
            "description_width": ""
          }
        },
        "833db1b00ff1484a8cc37d3d61a9bf0f": {
          "model_module": "@jupyter-widgets/base",
          "model_name": "LayoutModel",
          "model_module_version": "1.2.0",
          "state": {
            "_model_module": "@jupyter-widgets/base",
            "_model_module_version": "1.2.0",
            "_model_name": "LayoutModel",
            "_view_count": null,
            "_view_module": "@jupyter-widgets/base",
            "_view_module_version": "1.2.0",
            "_view_name": "LayoutView",
            "align_content": null,
            "align_items": null,
            "align_self": null,
            "border": null,
            "bottom": null,
            "display": null,
            "flex": null,
            "flex_flow": null,
            "grid_area": null,
            "grid_auto_columns": null,
            "grid_auto_flow": null,
            "grid_auto_rows": null,
            "grid_column": null,
            "grid_gap": null,
            "grid_row": null,
            "grid_template_areas": null,
            "grid_template_columns": null,
            "grid_template_rows": null,
            "height": null,
            "justify_content": null,
            "justify_items": null,
            "left": null,
            "margin": null,
            "max_height": null,
            "max_width": null,
            "min_height": null,
            "min_width": null,
            "object_fit": null,
            "object_position": null,
            "order": null,
            "overflow": null,
            "overflow_x": null,
            "overflow_y": null,
            "padding": null,
            "right": null,
            "top": null,
            "visibility": null,
            "width": null
          }
        },
        "432383530a4f41ec88c8992efbdfc347": {
          "model_module": "@jupyter-widgets/controls",
          "model_name": "DescriptionStyleModel",
          "model_module_version": "1.5.0",
          "state": {
            "_model_module": "@jupyter-widgets/controls",
            "_model_module_version": "1.5.0",
            "_model_name": "DescriptionStyleModel",
            "_view_count": null,
            "_view_module": "@jupyter-widgets/base",
            "_view_module_version": "1.2.0",
            "_view_name": "StyleView",
            "description_width": ""
          }
        }
      }
    }
  },
  "cells": [
    {
      "cell_type": "markdown",
      "source": [
        "\n",
        "#This task can be accomplished in a few ways, as listed below.\n",
        "\n",
        "\n",
        "\n",
        "Using multi-modal models such as LiLT,Donut, LayoutLM, etc., this method needs training data to train these models and has to apply post-processing steps to bring out the expected format.\n",
        "\n",
        "\n",
        "\n",
        "1. Using AWS textract to extract the tables from the document and applying post-processing techniques to bring out the expected format.\n",
        "\n",
        "\n",
        "2. using LLM's to get the information out of the documents. Here, we can use two types of llms.\n",
        "\n",
        "  1. closed-source models or paid services like OpenAI, Claude, and other models.\n",
        "  2. open source models like Mistral, Zephyr, and others.\n",
        "\n",
        "\n",
        "\n",
        "In this note book, I have used only llms to extract the information. Here, I have demonstrated in different ways how we can extract the information from the document. first one is using prompt and second one is using schema, schema contain predifined keys need to be extracted from text.But using prompt we can all the information in key value pairs but lot of post processing and prompt optimizing is required.\n",
        "\n",
        "***Note:*** In this demo, I haven't used any OCR or document loading techniques. This can be done using paddle ocr, AWS textract, gocr, and tesseract. We can easily extract the text from the document. So, I haven't used any approaches here.\n"
      ],
      "metadata": {
        "id": "wgahB9LBn5dK"
      }
    },
    {
      "cell_type": "markdown",
      "source": [
        "# Using openai"
      ],
      "metadata": {
        "id": "xGehMnKdkGmi"
      }
    },
    {
      "cell_type": "code",
      "source": [
        "!pip install langchain_openai"
      ],
      "metadata": {
        "id": "yDkoNl-WegBl"
      },
      "execution_count": null,
      "outputs": []
    },
    {
      "cell_type": "code",
      "source": [
        "import os\n",
        "os.environ[\"OPENAI_API_KEY\"] = \"openai key\""
      ],
      "metadata": {
        "id": "UV3x1lYIk4PE"
      },
      "execution_count": 46,
      "outputs": []
    },
    {
      "cell_type": "code",
      "source": [
        "import os\n",
        "from langchain_openai import OpenAI\n",
        "\n",
        "llm = OpenAI(max_tokens= 2000)"
      ],
      "metadata": {
        "id": "5YfhryZxeAjp"
      },
      "execution_count": 53,
      "outputs": []
    },
    {
      "cell_type": "markdown",
      "source": [
        "##using schemas"
      ],
      "metadata": {
        "id": "3eUmcSDBkK6u"
      }
    },
    {
      "cell_type": "code",
      "source": [
        "from langchain.chat_models import ChatOpenAI\n",
        "llm = ChatOpenAI(temperature = 0)"
      ],
      "metadata": {
        "id": "Y22SktDHkUmM"
      },
      "execution_count": 49,
      "outputs": []
    },
    {
      "cell_type": "code",
      "source": [
        "from langchain.chains import create_extraction_chain,create_extraction_chain_pydantic"
      ],
      "metadata": {
        "id": "-ioempLdkBlv"
      },
      "execution_count": 50,
      "outputs": []
    },
    {
      "cell_type": "code",
      "source": [
        "input_text = \"\"\"Price List  DEMO-CATALOG WWW: http://www.company.com E-mail: mail@company.com Phone: 206-xxx-0822 P.O. Box 34069 #381 Seattle, WA 981xx-10xx USA New! Bestseller Sale Action! Not available\n",
        "                Code Description Price Women's Bags WB001 AMELIEGALANTI 2016 new casual women shoulder bags famous brand Colors:White,Beige[+5],Blue;Set:Shoes[+100] 12,00\n",
        "                WB002 SheIn Bags Handbags Women Famous Brands Ladies Fashion 16,00 WB003 2016 New fashion shoulder bags handbags women famous brand 17,00 WB004 Fashion Small Bag Women Messenger Bags Soft PU Leather Handbags 22,00\n",
        "                WB005 Famous Brand Luxury Women Leather Handbags Women's Trunk 55,66 WB006 Realer brand women bag hollow out ombre handbag floral 22,00 WB007 New Arrival Women Fashion Faux Leather Satchel Bowknot 12,00\n",
        "                WB008 2016 New Fashion Women PU Leather Handbag High Quality 34,00 WB009 Ladsoul 2016 women handbag pu leather women shoulder 51,00 WB0010 Famous Brand Ladies Hand Bags Women PU Leather Bag Brown 54,00\n",
        "                WB0011 2016 New fashion women bag vintage handbags crossbody 67,00 \"\"\""
      ],
      "metadata": {
        "id": "T3lZTZslkr_0"
      },
      "execution_count": 51,
      "outputs": []
    },
    {
      "cell_type": "code",
      "source": [
        "schema =  {\n",
        "          \"type\": \"object\",\n",
        "          \"properties\": {\"SKU ID\": {\"type\": \"string\"},\n",
        "                          \"product description\": {\"type\": \"string\"},\n",
        "                          \"item title\": {\"type\": \"string\"},\n",
        "                          \"price\": {\"type\": \"string\"},\n",
        "                          \"attributes\": {\"type\": \"string\"}},\n",
        "          \"required\": [\"SKU ID\",\"product description\",\"item name\",\"price\",\"attributes\"],\n",
        "        }"
      ],
      "metadata": {
        "id": "BgJB55bVlFm8"
      },
      "execution_count": 60,
      "outputs": []
    },
    {
      "cell_type": "code",
      "source": [
        "chain = create_extraction_chain(schema,llm)"
      ],
      "metadata": {
        "id": "Khwuj4H9kGZW"
      },
      "execution_count": 61,
      "outputs": []
    },
    {
      "cell_type": "code",
      "source": [
        "chain.run(input_text)"
      ],
      "metadata": {
        "colab": {
          "base_uri": "https://localhost:8080/"
        },
        "id": "jHys7LqxkILc",
        "outputId": "b3af9a2a-c593-4a18-90a9-a60768f92b24"
      },
      "execution_count": 62,
      "outputs": [
        {
          "output_type": "execute_result",
          "data": {
            "text/plain": [
              "[{'SKU ID': 'WB001',\n",
              "  'product description': 'AMELIEGALANTI 2016 new casual women shoulder bags famous brand',\n",
              "  'price': '12,00',\n",
              "  'attributes': 'Colors:White,Beige[+5],Blue;Set:Shoes[+100]'},\n",
              " {'SKU ID': 'WB002',\n",
              "  'product description': 'SheIn Bags Handbags Women Famous Brands Ladies Fashion',\n",
              "  'price': '16,00',\n",
              "  'attributes': ''},\n",
              " {'SKU ID': 'WB003',\n",
              "  'product description': '2016 New fashion shoulder bags handbags women famous brand',\n",
              "  'price': '17,00',\n",
              "  'attributes': ''},\n",
              " {'SKU ID': 'WB004',\n",
              "  'product description': 'Fashion Small Bag Women Messenger Bags Soft PU Leather Handbags',\n",
              "  'price': '22,00',\n",
              "  'attributes': ''},\n",
              " {'SKU ID': 'WB005',\n",
              "  'product description': \"Famous Brand Luxury Women Leather Handbags Women's Trunk\",\n",
              "  'price': '55,66',\n",
              "  'attributes': ''},\n",
              " {'SKU ID': 'WB006',\n",
              "  'product description': 'Realer brand women bag hollow out ombre handbag floral',\n",
              "  'price': '22,00',\n",
              "  'attributes': ''},\n",
              " {'SKU ID': 'WB007',\n",
              "  'product description': 'New Arrival Women Fashion Faux Leather Satchel Bowknot',\n",
              "  'price': '12,00',\n",
              "  'attributes': ''},\n",
              " {'SKU ID': 'WB008',\n",
              "  'product description': '2016 New Fashion Women PU Leather Handbag High Quality',\n",
              "  'price': '34,00',\n",
              "  'attributes': ''},\n",
              " {'SKU ID': 'WB009',\n",
              "  'product description': 'Ladsoul 2016 women handbag pu leather women shoulder',\n",
              "  'price': '51,00',\n",
              "  'attributes': ''},\n",
              " {'SKU ID': 'WB0010',\n",
              "  'product description': 'Famous Brand Ladies Hand Bags Women PU Leather Bag Brown',\n",
              "  'price': '54,00',\n",
              "  'attributes': ''},\n",
              " {'SKU ID': 'WB0011',\n",
              "  'product description': '2016 New fashion women bag vintage handbags crossbody',\n",
              "  'price': '67,00',\n",
              "  'attributes': ''}]"
            ]
          },
          "metadata": {},
          "execution_count": 62
        }
      ]
    },
    {
      "cell_type": "markdown",
      "source": [
        "##Using langchain chains Example :1"
      ],
      "metadata": {
        "id": "elbPYUfRjHuY"
      }
    },
    {
      "cell_type": "code",
      "source": [
        "from langchain.prompts import PromptTemplate\n",
        "\n",
        "template = '''You are the best ocr extractor, document summariser, information extraction expert in the world with e-commerce domain knowledge related to e-commerce documents, like catalogue documents, etc.\n",
        "              from the {input_text} extract all the key value pairs present. the key-value pair can be in different formats as below\n",
        "              1. Key can be a header and value can be the text below it.\n",
        "              2. Key is left and value at its right with colon seperation\n",
        "              3. Key is the column header of a table and value below it\n",
        "              for all those cases give the key and corresponding value text.\n",
        "              give the output as a json structure.\n",
        "\n",
        "              Import thing to strictly follow.\n",
        "              1. Ensure that if there are variations of the same SKU ID, each variation is treated as a separate SKU.\n",
        "              2. The expected output format for each extracted SKU should be a structured object like this: \"ID\": 848063, \"title\": \"\", \"description\": \"Loctite ...\", \"price\":972, \"attributes\": \"Pack Size\": \"50 ml\".\n",
        "              3. Ensure that all structured product information includes an ID, title, description, price, and\n",
        "                attributes. Any additional information should be stored as key-value pairs within the\n",
        "                attributes section.\n",
        "                          '''\n",
        "prompt = PromptTemplate.from_template(template)\n",
        "\n",
        "\n",
        "\n",
        "input_text = \"\"\"Price List  DEMO-CATALOG WWW: http://www.company.com E-mail: mail@company.com Phone: 206-xxx-0822 P.O. Box 34069 #381 Seattle, WA 981xx-10xx USA New! Bestseller Sale Action! Not available\n",
        "                Code Description Price Women's Bags WB001 AMELIEGALANTI 2016 new casual women shoulder bags famous brand Colors:White,Beige[+5],Blue;Set:Shoes[+100] 12,00\n",
        "                WB002 SheIn Bags Handbags Women Famous Brands Ladies Fashion 16,00 WB003 2016 New fashion shoulder bags handbags women famous brand 17,00 WB004 Fashion Small Bag Women Messenger Bags Soft PU Leather Handbags 22,00\n",
        "                WB005 Famous Brand Luxury Women Leather Handbags Women's Trunk 55,66 WB006 Realer brand women bag hollow out ombre handbag floral 22,00 WB007 New Arrival Women Fashion Faux Leather Satchel Bowknot 12,00\n",
        "                WB008 2016 New Fashion Women PU Leather Handbag High Quality 34,00 WB009 Ladsoul 2016 women handbag pu leather women shoulder 51,00 WB0010 Famous Brand Ladies Hand Bags Women PU Leather Bag Brown 54,00\n",
        "                WB0011 2016 New fashion women bag vintage handbags crossbody 67,00 \"\"\"\n",
        "\n"
      ],
      "metadata": {
        "id": "C1a7phXfhT6_"
      },
      "execution_count": 44,
      "outputs": []
    },
    {
      "cell_type": "code",
      "source": [
        "llm_chain = LLMChain(prompt=prompt, llm=llm)"
      ],
      "metadata": {
        "id": "Ovd3LeWJeGtg"
      },
      "execution_count": 54,
      "outputs": []
    },
    {
      "cell_type": "code",
      "source": [
        "llm_chain.run(input_text)"
      ],
      "metadata": {
        "colab": {
          "base_uri": "https://localhost:8080/",
          "height": 164
        },
        "id": "NGZ42uQqerwy",
        "outputId": "6a9f56c1-fa75-41b6-ace5-1f417d576e1c"
      },
      "execution_count": 55,
      "outputs": [
        {
          "output_type": "execute_result",
          "data": {
            "text/plain": [
              "'\\n{\\n  \"SKU001\": {\\n    \"ID\": \"WB001\",\\n    \"title\": \"AMELIEGALANTI 2016 new casual women shoulder bags famous brand\",\\n    \"description\": \"Colors:White,Beige[+5],Blue;Set:Shoes[+100]\",\\n    \"price\": \"12,00\",\\n    \"attributes\": {\\n      \"Colors\": \"White,Beige[+5],Blue\",\\n      \"Set\": \"Shoes[+100]\"\\n    }\\n  },\\n  \"SKU002\": {\\n    \"ID\": \"WB002\",\\n    \"title\": \"SheIn Bags Handbags Women Famous Brands Ladies Fashion\",\\n    \"description\": \"\",\\n    \"price\": \"16,00\",\\n    \"attributes\": {}\\n  },\\n  \"SKU003\": {\\n    \"ID\": \"WB003\",\\n    \"title\": \"2016 New fashion shoulder bags handbags women famous brand\",\\n    \"description\": \"\",\\n    \"price\": \"17,00\",\\n    \"attributes\": {}\\n  },\\n  \"SKU004\": {\\n    \"ID\": \"WB004\",\\n    \"title\": \"Fashion Small Bag Women Messenger Bags Soft PU Leather Handbags\",\\n    \"description\": \"\",\\n    \"price\": \"22,00\",\\n    \"attributes\": {}\\n  },\\n  \"SKU005\": {\\n    \"ID\": \"WB005\",\\n    \"title\": \"Famous Brand Luxury Women Leather Handbags Women\\'s Trunk\",\\n    \"description\": \"\",\\n    \"price\": \"55,66\",\\n    \"attributes\": {}\\n  },\\n  \"SKU006\": {\\n    \"ID\": \"WB006\",\\n    \"title\": \"Realer brand women bag hollow out ombre handbag floral\",\\n    \"description\": \"\",\\n    \"price\": \"22,00\",\\n    \"attributes\": {}\\n  },\\n  \"SKU007\": {\\n    \"ID\": \"WB007\",\\n    \"title\": \"New Arrival Women Fashion Faux Leather Satchel Bowknot\",\\n    \"description\": \"\",\\n    \"price\": \"12,00\",\\n    \"attributes\": {}\\n  },\\n  \"SKU008\": {\\n    \"ID\": \"WB008\",\\n    \"title\": \"2016 New Fashion Women PU Leather Handbag High Quality\",\\n    \"description\": \"\",\\n    \"price\": \"34,00\",\\n    \"attributes\": {}\\n  },\\n  \"SKU009\": {\\n    \"ID\": \"WB009\",\\n    \"title\": \"Ladsoul 2016 women handbag pu leather women shoulder\",\\n    \"description\": \"\",\\n    \"price\": \"51,00\",\\n    \"attributes\": {}\\n  },\\n  \"SKU010\": {\\n    \"ID\": \"WB0010\",\\n    \"title\": \"Famous Brand Ladies Hand Bags Women PU Leather Bag Brown\",\\n    \"description\": \"\",\\n    \"price\": \"54,00\",\\n    \"attributes\": {}\\n  },\\n  \"SKU011\": {\\n    \"ID\": \"WB0011\",\\n    \"title\": \"2016 New fashion women bag vintage handbags crossbody\",\\n    \"description\": \"\",\\n    \"price\": \"67,00\",\\n    \"attributes\": {}\\n  }\\n}'"
            ],
            "application/vnd.google.colaboratory.intrinsic+json": {
              "type": "string"
            }
          },
          "metadata": {},
          "execution_count": 55
        }
      ]
    },
    {
      "cell_type": "markdown",
      "source": [
        "##Example:2"
      ],
      "metadata": {
        "id": "ELr4qKmVjKmR"
      }
    },
    {
      "cell_type": "code",
      "source": [
        "from langchain.prompts import PromptTemplate\n",
        "\n",
        "template = '''You are the best ocr extractor, document summariser, information extraction expert in the world with e-commerce domain knowledge related to e-commerce documents, like catalogue documents, etc.\n",
        "              from the {input_text} extract all the key value pairs present. the key-value pair can be in different formats as below\n",
        "              1. Key can be a header and value can be the text below it.\n",
        "              2. Key is left and value at its right with colon seperation\n",
        "              3. Key is the column header of a table and value below it\n",
        "              for all those cases give the key and corresponding value text.\n",
        "              give the output as a json structure.\n",
        "\n",
        "              Import thing to strictly follow.\n",
        "              1. Ensure that if there are variations of the same SKU ID, each variation is treated as a separate SKU.\n",
        "              2. The expected output format for each extracted SKU should be a structured object like this: \"ID\": 848063, \"title\": \"\", \"description\": \"Loctite ...\", \"price\":972, \"attributes\": \"Pack Size\": \"50 ml\".\n",
        "              3. Ensure that all structured product information includes an ID, title, description, price, and\n",
        "                attributes. Any additional information should be stored as key-value pairs within the\n",
        "                attributes section.\n",
        "                          '''\n",
        "prompt = PromptTemplate.from_template(template)\n",
        "\n",
        "\n",
        "\n",
        "input_text = \"\"\"Code Description Price\n",
        "Women's Bags\n",
        "WB001 AMELIEGALANTI 2016 new casual\n",
        "women shoulder bags famous brand 12,00\n",
        "WB002 SheIn Bags Handbags Women Famous\n",
        "Brands Ladies Fashion 16,00\n",
        "WB003 2016 New fashion shoulder bags\n",
        "handbags women famous brand 17,00\n",
        "WB004 Fashion Small Bag Women Messenger\n",
        "Bags Soft PU Leather Handbags 22,00\n",
        "WB005 Famous Brand Luxury Women Leather\n",
        "Handbags Women's Trunk 55,66\n",
        "WB006 Realer brand women bag hollow out\n",
        "ombre handbag floral 22,00\n",
        "WB007 New Arrival Women Fashion Faux\n",
        "Leather Satchel Bowknot 12,00\n",
        "WB008 2016 New Fashion Women PU Leather\n",
        "Handbag High Quality 34,00\n",
        "WB009 Ladsoul 2016 women handbag pu\n",
        "leather women shoulder 51,00\n",
        "WB0010 Famous Brand Ladies Hand Bags\n",
        "Women PU Leather Bag Brown 54,00\n",
        "WB0011 2016 New fashion women bag vintage\n",
        "handbags crossbody 67,00\n",
        "WB0012 New Brand Bags For Women Leather\n",
        "Women Messenger 54,00\n",
        "WB0013 INLEELA 2016 Fashion Scrub Women\n",
        "Bucket Bag Vintage 32,00\n",
        "WB0014 Women Shoulder Bag Candy 10 Colors\n",
        "Fashion Brand 44,00\n",
        "WB0015 Hot selling! Women Fashion Small\n",
        "Shell Leather Plaid 56,00\n",
        "WB0016 Fashion 2016 Designers Women\n",
        "Messenger Bags Females 78,00\n",
        "Women's Bags - More\n",
        "WB0017 Mance Summer Canvas Women Beach\n",
        "Bag Fashion Color 98,00\n",
        "WB0018 2016 new woman handbag famous\n",
        "brands shoulder bag Ladies 66,00\n",
        "WB0019 FLYING BIRDS! women leather\n",
        "handbag messenger bags shoulder 54,00\n",
        "WB0020 Bolsa Bolsos Carteras Mujer Marca\n",
        "Women PU Leather Cat 34,00\n",
        "WB0021 2016 NEW Fashion Famous Brand PU\n",
        "Leather Woven Shoulder 52,00\n",
        "WB0023 New Fashion Alligator Lady Embossing\n",
        "Messenger Crocodile 23,00\n",
        "WB0022 All-Match Fashion Female Package\n",
        "2015 Winter Elegant Women 61,00 \"\"\"\n",
        "\n"
      ],
      "metadata": {
        "id": "fSzcArMdjMY2"
      },
      "execution_count": 56,
      "outputs": []
    },
    {
      "cell_type": "code",
      "source": [
        "llm_chain = LLMChain(prompt=prompt, llm=llm)"
      ],
      "metadata": {
        "id": "8s004YsRjQKC"
      },
      "execution_count": 57,
      "outputs": []
    },
    {
      "cell_type": "code",
      "source": [
        "llm_chain.run(input_text)"
      ],
      "metadata": {
        "colab": {
          "base_uri": "https://localhost:8080/",
          "height": 164
        },
        "id": "Do3LQ3cvjRpZ",
        "outputId": "9a79f1f3-9cea-44d4-927a-62b5c86291cb"
      },
      "execution_count": 58,
      "outputs": [
        {
          "output_type": "execute_result",
          "data": {
            "text/plain": [
              "'\\n{\\n  \"WB001\": {\\n    \"ID\": \"WB001\",\\n    \"title\": \"AMELIEGALANTI 2016 new casual women shoulder bags famous brand\",\\n    \"description\": \"This is a 2016 new casual women shoulder bag from the famous brand AMELIEGALANTI. It is perfect for everyday use and adds a touch of luxury to any outfit.\",\\n    \"price\": 12.00,\\n    \"attributes\": {\\n      \"Brand\": \"AMELIEGALANTI\",\\n      \"Year\": \"2016\",\\n      \"Style\": \"Casual\",\\n      \"Type\": \"Shoulder Bag\",\\n      \"Material\": \"Unknown\"\\n    }\\n  },\\n  \"WB002\": {\\n    \"ID\": \"WB002\",\\n    \"title\": \"SheIn Bags Handbags Women Famous Brands Ladies Fashion\",\\n    \"description\": \"This is a fashionable handbag from the brand SheIn. It features a trendy design and is perfect for any occasion.\",\\n    \"price\": 16.00,\\n    \"attributes\": {\\n      \"Brand\": \"SheIn\",\\n      \"Type\": \"Handbag\",\\n      \"Material\": \"Unknown\",\\n      \"Style\": \"Fashion\",\\n      \"Gender\": \"Women\"\\n    }\\n  },\\n  \"WB003\": {\\n    \"ID\": \"WB003\",\\n    \"title\": \"2016 New fashion shoulder bags handbags women famous brand\",\\n    \"description\": \"This is a new fashion shoulder bag from a famous brand. It is perfect for adding a stylish touch to your outfit.\",\\n    \"price\": 17.00,\\n    \"attributes\": {\\n      \"Brand\": \"Unknown\",\\n      \"Year\": \"2016\",\\n      \"Type\": \"Shoulder Bag\",\\n      \"Material\": \"Unknown\",\\n      \"Style\": \"Fashion\",\\n      \"Gender\": \"Women\"\\n    }\\n  },\\n  \"WB004\": {\\n    \"ID\": \"WB004\",\\n    \"title\": \"Fashion Small Bag Women Messenger Bags Soft PU Leather Handbags\",\\n    \"description\": \"This is a small fashion bag made from soft PU leather. It is perfect for carrying your essentials and adds a touch of style to any outfit.\",\\n    \"price\": 22.00,\\n    \"attributes\": {\\n      \"Type\": \"Messenger Bag\",\\n      \"Material\": \"PU Leather\",\\n      \"Style\": \"Fashion\",\\n      \"Gender\": \"Women\"\\n    }\\n  },\\n  \"WB005\": {\\n    \"ID\": \"WB005\",\\n    \"title\": \"Famous Brand Luxury Women Leather Handbags Women\\'s Trunk\",\\n    \"description\": \"This is a luxurious leather handbag from a famous brand. It features a trunk design and is perfect for adding a touch of sophistication to your outfit.\",\\n    \"price\": 55.66,\\n    \"attributes\": {\\n      \"Brand\": \"Famous Brand\",\\n      \"Type\": \"Handbag\",\\n      \"Material\": \"Leather\",\\n      \"Style\": \"Luxury\",\\n      \"Gender\": \"Women\"\\n    }\\n  },\\n  \"WB006\": {\\n    \"ID\": \"WB006\",\\n    \"title\": \"Realer brand women bag hollow out ombre handbag floral\",\\n    \"description\": \"This is a stylish bag from the brand Realer. It features a unique hollow out and ombre design with floral accents.\",\\n    \"price\": 22.00,\\n    \"attributes\": {\\n      \"Brand\": \"Realer\",\\n      \"Type\": \"Handbag\",\\n      \"Material\": \"Unknown\",\\n      \"Style\": \"Unique\",\\n      \"Gender\": \"Women\"\\n    }\\n  },\\n  \"WB007\": {\\n    \"ID\": \"WB007\",\\n    \"title\": \"New Arrival Women Fashion Faux Leather Satchel Bowknot\",\\n    \"description\": \"This is a fashionable faux leather satchel with a bowknot accent. It is perfect for adding a touch of elegance to your outfit.\",\\n    \"price\": 12.00,\\n    \"attributes\": {\\n      \"Type\": \"Satchel\",\\n      \"Material\": \"Faux Leather\",\\n      \"Style\": \"Fashion\",\\n      \"Gender\": \"Women\"\\n    }\\n  },\\n  \"WB008\": {\\n    \"ID\": \"WB008\",\\n    \"title\": \"2016 New Fashion Women PU Leather Handbag High Quality\",\\n    \"description\": \"This is a high quality PU leather handbag with a fashionable design. It is perfect for adding a touch of style to your outfit.\",\\n    \"price\": 34.00,\\n    \"attributes\": {\\n      \"Type\": \"Handbag\",\\n      \"Material\": \"PU Leather\",\\n      \"Style\": \"Fashion\",\\n      \"Gender\": \"Women\"\\n    }\\n  },\\n  \"WB009\": {\\n    \"ID\": \"WB009\",\\n    \"title\": \"Ladsoul 2016 women handbag pu leather women shoulder\",\\n    \"description\": \"This is a 2016 women\\'s handbag made from PU leather. It is perfect for everyday use and adds a touch of style to any outfit.\",\\n    \"price\": 51.00,\\n    \"attributes\": {\\n      \"Brand\": \"Ladsoul\",\\n      \"Year\": \"2016\",\\n      \"Type\": \"Handbag\",\\n      \"Material\": \"PU Leather\",\\n      \"Style\": \"Unknown\",\\n      \"Gender\": \"Women\"\\n    }\\n  },\\n  \"WB0010\": {\\n    \"ID\": \"WB0010\",\\n    \"title\": \"Famous Brand Ladies Hand Bags Women PU Leather Bag Brown\",\\n    \"description\": \"This is a stylish handbag from a famous brand. It is made from PU leather and features a sleek brown design.\",\\n    \"price\": 54.00,\\n    \"attributes\": {\\n      \"Brand\": \"Famous Brand\",\\n      \"Type\": \"Handbag\",\\n      \"Material\": \"PU Leather\",\\n      \"Style\": \"Fashion\",\\n      \"Gender\": \"Women\"\\n    }\\n  },\\n  \"WB0011\": {\\n    \"ID\": \"WB0011\",\\n    \"title\": \"2016 New fashion women bag vintage handbags crossbody\",\\n    \"description\": \"This is a vintage style handbag with a crossbody design. It is perfect for adding a touch of retro to your outfit.\",\\n    \"price\": 67.00,\\n    \"attributes\": {\\n      \"Year\": \"2016\",\\n      \"Type\": \"Handbag\",\\n      \"Material\": \"Unknown\",\\n      \"Style\": \"Vintage\",\\n      \"Gender\": \"Women\"\\n    }\\n  },\\n  \"WB0012\": {\\n    \"ID\": \"WB0012\",\\n    \"title\": \"New Brand Bags For Women Leather Women Messenger\",\\n    \"description\": \"This is a stylish leather messenger bag for women. It is perfect for carrying your essentials in style.\",\\n    \"price\": 54.00,\\n    \"attributes\": {\\n      \"Brand\": \"New Brand\",\\n      \"Type\": \"Messenger Bag\",\\n      \"Material\": \"Leather\",\\n      \"Style\": \"Unknown\",\\n      \"Gender\": \"Women\"\\n    }\\n  },\\n  \"WB0013\": {\\n    \"ID\": \"WB0013\",\\n    \"title\": \"INLEELA 2016 Fashion Scrub Women Bucket Bag Vintage\",\\n    \"description\": \"This is a fashionable scrub bucket bag with a vintage design. It is perfect for adding a touch of style to your outfit.\",\\n    \"price\": 32.00,\\n    \"attributes\": {\\n      \"Brand\": \"INLEELA\",\\n      \"Year\": \"2016\",\\n      \"Type\": \"Bucket Bag\",\\n      \"Material\": \"Unknown\",\\n      \"Style\": \"Fashion\",\\n      \"Gender\": \"Women\"\\n    }\\n  },\\n  \"WB0014\": {\\n    \"ID\": \"WB0014\",\\n    \"title\": \"Women Shoulder Bag Candy 10 Colors Fashion Brand\",\\n    \"description\": \"This is a stylish shoulder bag with 10 color options. It is perfect for adding a pop of color to your outfit.\",\\n    \"price\": 44.00,\\n    \"attributes\": {\\n      \"Type\": \"Shoulder Bag\",\\n      \"Material\": \"Unknown\",\\n      \"Style\": \"Fashion\",\\n      \"Gender\": \"Women\",\\n      \"Color Options\": \"10\"\\n    }\\n  },\\n  \"WB0015\": {\\n    \"ID\": \"WB0015\",\\n    \"title\": \"Hot selling! Women Fashion Small Shell Leather Plaid\",\\n    \"description\": \"This is a fashionable small shell bag made from leather with a plaid design. It is perfect for adding a touch of style to your outfit.\",\\n    \"price\": 56.00,\\n    \"attributes\": {\\n      \"Type\": \"Shell Bag\",\\n      \"Material\": \"Leather\",\\n      \"Style\": \"Fashion\",\\n      \"Gender\": \"Women\",\\n      \"Pattern\": \"Plaid\"\\n    }\\n  },\\n  \"WB0016\": {\\n    \"ID\": \"WB0016\",\\n    \"title\": \"Fashion 2016 Designers Women Messenger Bags Females\",\\n    \"description\": \"This is a fashionable messenger bag for women designed by top designers. It is perfect for adding a touch of luxury to your outfit.\",\\n    \"price\": 78.00,\\n    \"attributes\": {\\n      \"Type\": \"Messenger Bag\",\\n      \"Material\": \"Unknown\",\\n      \"Style\": \"Fashion\",\\n      \"Gender\": \"Women\",\\n      \"Designer\": \"Top Designers\"\\n    }\\n  },\\n  \"WB0017\": {\\n    \"ID\": \"WB0017\",\\n    \"title\": \"Mance Summer Canvas Women Beach Bag Fashion Color\",\\n    \"description\": \"This is a trendy canvas beach bag for women. It is perfect for carrying all your essentials for a day at the beach.\",\\n   '"
            ],
            "application/vnd.google.colaboratory.intrinsic+json": {
              "type": "string"
            }
          },
          "metadata": {},
          "execution_count": 58
        }
      ]
    },
    {
      "cell_type": "markdown",
      "source": [
        "#using mistral and langchain [Local LLM]"
      ],
      "metadata": {
        "id": "bbVLByg_DEu1"
      }
    },
    {
      "cell_type": "code",
      "source": [
        "!pip install langchain"
      ],
      "metadata": {
        "id": "zmkwKc8PDKTJ"
      },
      "execution_count": null,
      "outputs": []
    },
    {
      "cell_type": "code",
      "source": [
        "!pip install -q accelerate==0.21.0 \\\n",
        "                peft==0.4.0 \\\n",
        "                bitsandbytes==0.40.2 \\\n",
        "                transformers==4.31.0 \\\n",
        "                trl==0.4.7"
      ],
      "metadata": {
        "id": "39EkIpLyDjI3"
      },
      "execution_count": null,
      "outputs": []
    },
    {
      "cell_type": "code",
      "source": [
        "!pip install -U transformers"
      ],
      "metadata": {
        "id": "JhtGnS4XDpEF"
      },
      "execution_count": null,
      "outputs": []
    },
    {
      "cell_type": "code",
      "source": [
        "import transformers\n",
        "from transformers import AutoConfig, AutoModelForCausalLM, AutoTokenizer, pipeline\n",
        "model_name='mistralai/Mistral-7B-Instruct-v0.1'\n",
        "\n",
        "model_config = transformers.AutoConfig.from_pretrained(\n",
        "    model_name,\n",
        ")\n",
        "\n",
        "tokenizer = AutoTokenizer.from_pretrained(model_name, trust_remote_code=True)\n",
        "tokenizer.pad_token = tokenizer.eos_token\n",
        "tokenizer.padding_side = \"right\"\n"
      ],
      "metadata": {
        "colab": {
          "base_uri": "https://localhost:8080/",
          "height": 145,
          "referenced_widgets": [
            "faca34862cf341dba67939e59139f64c",
            "22908f7d12cb43af891e482ddda16d9f",
            "1b675c23b6764d2da9cd7445337fa963",
            "66002cf98c9f4c258871bdb151deba10",
            "69d49cded3374ea5993cf6491086fd5a",
            "6dba74ca1e51473f96281f400366294a",
            "8b6b6960737c4e098d9a3d46dad9ac5b",
            "491d136a1363493084cccc85742a6042",
            "292134b23a43455ebd78b94da46c995d",
            "af80002c66fc44dba44140d0107e5faa",
            "10f6d4a3803f46969e4d1ff26ca681fd",
            "29626677aaf24200a1e7630b9826fb40",
            "33803b45dd7e447da0d772db4d7c32a8",
            "028e615678d84dac97862afc51e77968",
            "e1e330975fce42909637dfc99f96dadd",
            "d69b5ad6b6874ed6a97cd8048cff157f",
            "728cddd4189146cea1efdbb7c2d0e049",
            "c43bdeb00c7b488dad616347076e6c0c",
            "9b1c8244dc404cc9a3d1ae779e23f731",
            "34ff2d6fee464a0d8b55af07bcfe3506",
            "a144a46f093d4834920548415f12ce93",
            "3009a9e25c704fdd85a9e4af89ff5a29",
            "c347492c34064959a0ca4195091d65c9",
            "2e326bfcfb7d48cb83ff1bd769509e01",
            "a44bd7acd8c740ab8f323a499c5df029",
            "c3be459814c44818a90b0e6606938849",
            "56cfb083c75e4b778ea0dd58967aaa07",
            "69336a2c8ed94911a1d05e0e3724b141",
            "7ecb8f7a3d0149a59b769b32bec91eba",
            "0f0ef3e538da4ca18a9e62b9a7208729",
            "33da1d60bcd5465095b827bc514713c5",
            "69ca89411e3b4f45877297dc2c7bee71",
            "4cd447f3ab414820ad5eeb9b928b9590",
            "fe881228d43e412b802710d4d654e349",
            "ce36af7875ff402e828accd1e1e83ca9",
            "9e67c8f5c08b402fbacdf4614bcc967c",
            "a3617fdcddcc4b96bea412239e862f77",
            "5f818fb14fe54eb4ae2696d3d9e36260",
            "6cd5893f890d4ed68a970142c1047fa1",
            "f1ca471a8d8a4a91bf26d16fc8f182d0",
            "5a8e1fbaf3c54c5db0ce80b06fdfe102",
            "857afc431dcc4ae39d00f0fced5ca5e9",
            "833db1b00ff1484a8cc37d3d61a9bf0f",
            "432383530a4f41ec88c8992efbdfc347"
          ]
        },
        "id": "wuc5rjOMDl7R",
        "outputId": "bca0015f-bd40-4f79-ae07-6e974641e391"
      },
      "execution_count": 2,
      "outputs": [
        {
          "output_type": "display_data",
          "data": {
            "text/plain": [
              "tokenizer_config.json:   0%|          | 0.00/1.47k [00:00<?, ?B/s]"
            ],
            "application/vnd.jupyter.widget-view+json": {
              "version_major": 2,
              "version_minor": 0,
              "model_id": "faca34862cf341dba67939e59139f64c"
            }
          },
          "metadata": {}
        },
        {
          "output_type": "display_data",
          "data": {
            "text/plain": [
              "tokenizer.model:   0%|          | 0.00/493k [00:00<?, ?B/s]"
            ],
            "application/vnd.jupyter.widget-view+json": {
              "version_major": 2,
              "version_minor": 0,
              "model_id": "29626677aaf24200a1e7630b9826fb40"
            }
          },
          "metadata": {}
        },
        {
          "output_type": "display_data",
          "data": {
            "text/plain": [
              "tokenizer.json:   0%|          | 0.00/1.80M [00:00<?, ?B/s]"
            ],
            "application/vnd.jupyter.widget-view+json": {
              "version_major": 2,
              "version_minor": 0,
              "model_id": "c347492c34064959a0ca4195091d65c9"
            }
          },
          "metadata": {}
        },
        {
          "output_type": "display_data",
          "data": {
            "text/plain": [
              "special_tokens_map.json:   0%|          | 0.00/72.0 [00:00<?, ?B/s]"
            ],
            "application/vnd.jupyter.widget-view+json": {
              "version_major": 2,
              "version_minor": 0,
              "model_id": "fe881228d43e412b802710d4d654e349"
            }
          },
          "metadata": {}
        }
      ]
    },
    {
      "cell_type": "code",
      "source": [
        "from langchain.llms import HuggingFacePipeline\n",
        "from langchain.prompts import PromptTemplate\n",
        "from langchain.embeddings.huggingface import HuggingFaceEmbeddings\n",
        "\n",
        "text_generation_pipeline = transformers.pipeline(\n",
        "    model=model,\n",
        "    tokenizer=tokenizer,\n",
        "    task=\"text-generation\",\n",
        "    temperature=0.2,\n",
        "    repetition_penalty=1.1,\n",
        "    return_full_text=True,\n",
        "    max_new_tokens=300,\n",
        ")\n",
        "\n",
        "prompt_template = \"\"\"\n",
        "### [INST]\n",
        "Instruction: Answer the question based on your\n",
        "fantasy football knowledge. Here is context to help:\n",
        "\n",
        "{context}\n",
        "\n",
        "### QUESTION:\n",
        "{question}\n",
        "\n",
        "[/INST]\n",
        " \"\"\"\n",
        "\n",
        "mistral_llm = HuggingFacePipeline(pipeline=text_generation_pipeline)\n",
        "\n",
        "# Create prompt from prompt template\n",
        "prompt = PromptTemplate(\n",
        "    input_variables=[\"context\", \"question\"],\n",
        "    template=prompt_template,\n",
        ")\n",
        "\n",
        "# Create llm chain\n",
        "llm_chain = LLMChain(llm=mistral_llm, prompt=prompt)"
      ],
      "metadata": {
        "id": "FxWcyz-9DIUh"
      },
      "execution_count": null,
      "outputs": []
    },
    {
      "cell_type": "code",
      "source": [
        "llm_chain.invoke({\"context\":\"\",\n",
        "                  \"question\": \"Should I pick up Alvin Kamara for my fantasy team?\"})\n"
      ],
      "metadata": {
        "id": "5AtsYG_WEBbP"
      },
      "execution_count": null,
      "outputs": []
    },
    {
      "cell_type": "markdown",
      "source": [],
      "metadata": {
        "id": "eAW8UbYAQBFM"
      }
    },
    {
      "cell_type": "markdown",
      "source": [
        "#using langchain and llamacpp  [Local LLM]"
      ],
      "metadata": {
        "id": "JwwJtQ-zDAS2"
      }
    },
    {
      "cell_type": "code",
      "execution_count": null,
      "metadata": {
        "id": "99nsflCYNcK_"
      },
      "outputs": [],
      "source": [
        "!pip install -U langchain-community langchain\n",
        "!pip install -U transformers\n",
        "! pip install llama-cpp-python\n"
      ]
    },
    {
      "cell_type": "code",
      "source": [
        "#Downloading model from huggingface\n",
        "\n",
        "!huggingface-cli download TheBloke/Mistral-7B-Instruct-v0.1-GGUF mistral-7b-instruct-v0.1.Q4_K_M.gguf --local-dir . --local-dir-use-symlinks False\n",
        "# https://huggingface.co/TheBloke/phi-2-GGUF/blob/main/phi-2.Q6_K.gguf\n",
        "#https://huggingface.co/mlabonne/gemma-2b-GGUF/blob/main/gemma-2b.Q8_0.gguf\n",
        "#https://huggingface.co/TheBloke/MPT-7B-Instruct-GGML/blob/main/mpt-7b-instruct.ggmlv3.q4_1.bin\n",
        "#https://huggingface.co/TheBloke/Mistral-7B-v0.1-GGUF/blob/main/mistral-7b-v0.1.Q4_K_M.gguf"
      ],
      "metadata": {
        "colab": {
          "base_uri": "https://localhost:8080/"
        },
        "id": "_ARoMx1iZVvd",
        "outputId": "c33a8633-2902-4a9c-8f8a-1b0d0ac2f481"
      },
      "execution_count": 7,
      "outputs": [
        {
          "output_type": "stream",
          "name": "stdout",
          "text": [
            "Consider using `hf_transfer` for faster downloads. This solution comes with some limitations. See https://huggingface.co/docs/huggingface_hub/hf_transfer for more details.\n",
            "downloading https://huggingface.co/TheBloke/Mistral-7B-Instruct-v0.1-GGUF/resolve/main/mistral-7b-instruct-v0.1.Q4_K_M.gguf to /root/.cache/huggingface/hub/tmpgsedq7wk\n",
            "mistral-7b-instruct-v0.1.Q4_K_M.gguf: 100% 4.37G/4.37G [00:19<00:00, 224MB/s]\n",
            "./mistral-7b-instruct-v0.1.Q4_K_M.gguf\n"
          ]
        }
      ]
    },
    {
      "cell_type": "code",
      "source": [
        "#preparing prompt and templeted\n",
        "from langchain.prompts import PromptTemplate\n",
        "\n",
        "template = '''You are the best ocr extractor, document summariser, information extraction expert in the world with e-commerce domain knowledge related to e-commerce documents, like catalogue documents, etc.\n",
        "              from this {input_text} context ,This context may contain multiple sku details, and it extracted from ocr, do analyse the values and extract all the key value pairs present. the key-value pair can be in different formats as below\n",
        "              1. Key can be a header and value can be the text below it.\n",
        "              2. Key is left and value at its right with colon seperation\n",
        "              3. Key is the column header of a table and value below it\n",
        "              for all those cases give the key and corresponding value text.\n",
        "              give the output as a json structure.\n",
        "\n",
        "\n",
        "                          '''\n",
        "prompt = PromptTemplate.from_template(template)\n",
        "\n",
        "# chain = prompt | hf\n",
        "\n",
        "input_text = \"\"\"Price List  DEMO-CATALOG WWW: http://www.company.com E-mail: mail@company.com Phone: 206-xxx-0822 P.O. Box 34069 #381 Seattle, WA 981xx-10xx USA New! Bestseller Sale Action! Not available\n",
        "                Code Description Price Women's Bags WB001 AMELIEGALANTI 2016 new casual women shoulder bags famous brand Colors:White,Beige[+5],Blue;Set:Shoes[+100] 12,00\n",
        "                WB002 SheIn Bags Handbags Women Famous Brands Ladies Fashion 16,00 WB003 2016 New fashion shoulder bags handbags women famous brand 17,00 WB004 Fashion Small Bag Women Messenger Bags Soft PU Leather Handbags 22,00\n",
        "                WB005 Famous Brand Luxury Women Leather Handbags Women's Trunk 55,66 WB006 Realer brand women bag hollow out ombre handbag floral 22,00 WB007 New Arrival Women Fashion Faux Leather Satchel Bowknot 12,00\n",
        "                WB008 2016 New Fashion Women PU Leather Handbag High Quality 34,00 WB009 Ladsoul 2016 women handbag pu leather women shoulder 51,00 WB0010 Famous Brand Ladies Hand Bags Women PU Leather Bag Brown 54,00\n",
        "                WB0011 2016 New fashion women bag vintage handbags crossbody 67,00 \"\"\"\n",
        "\n",
        "# print(chain.invoke({\"input_text\": input_text}))"
      ],
      "metadata": {
        "id": "DfWAbeH6PiLd"
      },
      "execution_count": 18,
      "outputs": []
    },
    {
      "cell_type": "markdown",
      "source": [
        "##using llamacpp and chains from langchain"
      ],
      "metadata": {
        "id": "TUfHC9leQoq-"
      }
    },
    {
      "cell_type": "code",
      "source": [
        "from langchain.callbacks.manager import CallbackManager\n",
        "from langchain.callbacks.streaming_stdout import StreamingStdOutCallbackHandler\n",
        "from langchain.chains import LLMChain\n",
        "from langchain.llms import LlamaCpp\n",
        "from langchain.prompts import PromptTemplate\n",
        "import os\n",
        "#loading the model\n",
        "\n",
        "# Callbacks support token-wise streaming\n",
        "callback_manager = CallbackManager([StreamingStdOutCallbackHandler()])\n",
        "\n",
        "n_gpu_layers = 35  # Change this value based on your model and your GPU VRAM pool.\n",
        "n_batch = 64  # Should be between 1 and n_ctx, consider the amount of VRAM in your GPU.\n",
        "\n",
        "# Make sure the model path is correct for your system!\n",
        "llm = LlamaCpp(\n",
        "    model_path=\"/content/mistral-7b-instruct-v0.1.Q4_K_M.gguf\",\n",
        "    temperature=0.1,\n",
        "    n_ctx=1000,\n",
        "    max_tokens=2000,\n",
        "    n_threads = os.cpu_count(),\n",
        "    n_gpu_layers=n_gpu_layers,\n",
        "    n_batch=n_batch,\n",
        "    callback_manager=callback_manager,\n",
        "    verbose=True,  # Verbose is required to pass to the callback manager\n",
        ")\n",
        "\n",
        "llm_chain = LLMChain(prompt=prompt, llm=llm)\n",
        "\n"
      ],
      "metadata": {
        "colab": {
          "base_uri": "https://localhost:8080/"
        },
        "id": "RrJ3QFzjWpeI",
        "outputId": "d0b0771f-cdd7-46fe-b6d1-958327ce6d55"
      },
      "execution_count": 19,
      "outputs": [
        {
          "output_type": "stream",
          "name": "stderr",
          "text": [
            "llama_model_loader: loaded meta data with 20 key-value pairs and 291 tensors from /content/mistral-7b-instruct-v0.1.Q4_K_M.gguf (version GGUF V2)\n",
            "llama_model_loader: Dumping metadata keys/values. Note: KV overrides do not apply in this output.\n",
            "llama_model_loader: - kv   0:                       general.architecture str              = llama\n",
            "llama_model_loader: - kv   1:                               general.name str              = mistralai_mistral-7b-instruct-v0.1\n",
            "llama_model_loader: - kv   2:                       llama.context_length u32              = 32768\n",
            "llama_model_loader: - kv   3:                     llama.embedding_length u32              = 4096\n",
            "llama_model_loader: - kv   4:                          llama.block_count u32              = 32\n",
            "llama_model_loader: - kv   5:                  llama.feed_forward_length u32              = 14336\n",
            "llama_model_loader: - kv   6:                 llama.rope.dimension_count u32              = 128\n",
            "llama_model_loader: - kv   7:                 llama.attention.head_count u32              = 32\n",
            "llama_model_loader: - kv   8:              llama.attention.head_count_kv u32              = 8\n",
            "llama_model_loader: - kv   9:     llama.attention.layer_norm_rms_epsilon f32              = 0.000010\n",
            "llama_model_loader: - kv  10:                       llama.rope.freq_base f32              = 10000.000000\n",
            "llama_model_loader: - kv  11:                          general.file_type u32              = 15\n",
            "llama_model_loader: - kv  12:                       tokenizer.ggml.model str              = llama\n",
            "llama_model_loader: - kv  13:                      tokenizer.ggml.tokens arr[str,32000]   = [\"<unk>\", \"<s>\", \"</s>\", \"<0x00>\", \"<...\n",
            "llama_model_loader: - kv  14:                      tokenizer.ggml.scores arr[f32,32000]   = [0.000000, 0.000000, 0.000000, 0.0000...\n",
            "llama_model_loader: - kv  15:                  tokenizer.ggml.token_type arr[i32,32000]   = [2, 3, 3, 6, 6, 6, 6, 6, 6, 6, 6, 6, ...\n",
            "llama_model_loader: - kv  16:                tokenizer.ggml.bos_token_id u32              = 1\n",
            "llama_model_loader: - kv  17:                tokenizer.ggml.eos_token_id u32              = 2\n",
            "llama_model_loader: - kv  18:            tokenizer.ggml.unknown_token_id u32              = 0\n",
            "llama_model_loader: - kv  19:               general.quantization_version u32              = 2\n",
            "llama_model_loader: - type  f32:   65 tensors\n",
            "llama_model_loader: - type q4_K:  193 tensors\n",
            "llama_model_loader: - type q6_K:   33 tensors\n",
            "llm_load_vocab: special tokens definition check successful ( 259/32000 ).\n",
            "llm_load_print_meta: format           = GGUF V2\n",
            "llm_load_print_meta: arch             = llama\n",
            "llm_load_print_meta: vocab type       = SPM\n",
            "llm_load_print_meta: n_vocab          = 32000\n",
            "llm_load_print_meta: n_merges         = 0\n",
            "llm_load_print_meta: n_ctx_train      = 32768\n",
            "llm_load_print_meta: n_embd           = 4096\n",
            "llm_load_print_meta: n_head           = 32\n",
            "llm_load_print_meta: n_head_kv        = 8\n",
            "llm_load_print_meta: n_layer          = 32\n",
            "llm_load_print_meta: n_rot            = 128\n",
            "llm_load_print_meta: n_embd_head_k    = 128\n",
            "llm_load_print_meta: n_embd_head_v    = 128\n",
            "llm_load_print_meta: n_gqa            = 4\n",
            "llm_load_print_meta: n_embd_k_gqa     = 1024\n",
            "llm_load_print_meta: n_embd_v_gqa     = 1024\n",
            "llm_load_print_meta: f_norm_eps       = 0.0e+00\n",
            "llm_load_print_meta: f_norm_rms_eps   = 1.0e-05\n",
            "llm_load_print_meta: f_clamp_kqv      = 0.0e+00\n",
            "llm_load_print_meta: f_max_alibi_bias = 0.0e+00\n",
            "llm_load_print_meta: n_ff             = 14336\n",
            "llm_load_print_meta: n_expert         = 0\n",
            "llm_load_print_meta: n_expert_used    = 0\n",
            "llm_load_print_meta: rope scaling     = linear\n",
            "llm_load_print_meta: freq_base_train  = 10000.0\n",
            "llm_load_print_meta: freq_scale_train = 1\n",
            "llm_load_print_meta: n_yarn_orig_ctx  = 32768\n",
            "llm_load_print_meta: rope_finetuned   = unknown\n",
            "llm_load_print_meta: model type       = 7B\n",
            "llm_load_print_meta: model ftype      = Q4_K - Medium\n",
            "llm_load_print_meta: model params     = 7.24 B\n",
            "llm_load_print_meta: model size       = 4.07 GiB (4.83 BPW) \n",
            "llm_load_print_meta: general.name     = mistralai_mistral-7b-instruct-v0.1\n",
            "llm_load_print_meta: BOS token        = 1 '<s>'\n",
            "llm_load_print_meta: EOS token        = 2 '</s>'\n",
            "llm_load_print_meta: UNK token        = 0 '<unk>'\n",
            "llm_load_print_meta: LF token         = 13 '<0x0A>'\n",
            "llm_load_tensors: ggml ctx size =    0.11 MiB\n",
            "llm_load_tensors:        CPU buffer size =  4165.37 MiB\n",
            ".................................................................................................\n",
            "llama_new_context_with_model: n_ctx      = 1000\n",
            "llama_new_context_with_model: freq_base  = 10000.0\n",
            "llama_new_context_with_model: freq_scale = 1\n",
            "llama_kv_cache_init:        CPU KV buffer size =   125.00 MiB\n",
            "llama_new_context_with_model: KV self size  =  125.00 MiB, K (f16):   62.50 MiB, V (f16):   62.50 MiB\n",
            "llama_new_context_with_model:        CPU input buffer size   =     1.27 MiB\n",
            "llama_new_context_with_model:        CPU compute buffer size =    11.81 MiB\n",
            "llama_new_context_with_model: graph splits (measure): 1\n",
            "AVX = 1 | AVX_VNNI = 0 | AVX2 = 1 | AVX512 = 1 | AVX512_VBMI = 0 | AVX512_VNNI = 0 | FMA = 1 | NEON = 0 | ARM_FMA = 0 | F16C = 1 | FP16_VA = 0 | WASM_SIMD = 0 | BLAS = 0 | SSE3 = 1 | SSSE3 = 1 | VSX = 0 | MATMUL_INT8 = 0 | \n",
            "Model metadata: {'tokenizer.ggml.unknown_token_id': '0', 'tokenizer.ggml.eos_token_id': '2', 'general.architecture': 'llama', 'llama.rope.freq_base': '10000.000000', 'llama.context_length': '32768', 'general.name': 'mistralai_mistral-7b-instruct-v0.1', 'llama.embedding_length': '4096', 'llama.feed_forward_length': '14336', 'llama.attention.layer_norm_rms_epsilon': '0.000010', 'llama.rope.dimension_count': '128', 'tokenizer.ggml.bos_token_id': '1', 'llama.attention.head_count': '32', 'llama.block_count': '32', 'llama.attention.head_count_kv': '8', 'general.quantization_version': '2', 'tokenizer.ggml.model': 'llama', 'general.file_type': '15'}\n"
          ]
        }
      ]
    },
    {
      "cell_type": "code",
      "source": [
        "llm_chain.run({\"input_text\":input_text})"
      ],
      "metadata": {
        "colab": {
          "base_uri": "https://localhost:8080/",
          "height": 820
        },
        "id": "p1lMTjC4p-ID",
        "outputId": "80de8013-645f-44a1-e8d6-46c5e699376d"
      },
      "execution_count": 20,
      "outputs": [
        {
          "output_type": "stream",
          "name": "stdout",
          "text": [
            " {\n",
            "                               \"SKU\": \"WB001\",\n",
            "                               \"Brand\": \"AMELIEGALANTI\",\n",
            "                               \"Description\": \"2016 new casual women shoulder bags famous brand Colors:White,Beige[+5],Blue;Set:Shoes[+100]\",\n",
            "                               \"Price\": \"12,00\",\n",
            "                               \"Category\": \"Women's Bags\",\n",
            "                               \"Subcategory\": \"Shoulder Bags\",\n",
            "                               \"Color\": \"White\",\n",
            "                               \"Set\": \"Shoes\",\n",
            "                               \"Quantity\": \"1\",\n",
            "                               \"Sale\": \"Best Seller Sale\",\n",
            "                               \"Action\": \"Not available\"\n",
            "                           }\n",
            "                           {\n",
            "                               \"SKU\": \"WB002\",\n",
            "                               \"Brand\": \"SheIn\",\n",
            "                               \"Description\": \"Bags Handbags Women Famous Brands Ladies Fashion 16,00\",\n",
            "                               \"Price\": \"16,00\",\n",
            "                               \"Category\": \"Women's Bags\",\n",
            "                               \"Subcategory\": \"Handbags\",\n",
            "                               \"Quantity\": \"1\",\n",
            "                               \"Sale\": \"Best Seller Sale\",\n",
            "                               \"Action\": \"Not available\"\n",
            "                           }\n",
            "                           {\n",
            "                               \"SKU\": \"WB003\",\n",
            "                               \"Brand\": \"2016 New Fashion\",\n",
            "                               \"Description\": \"Shoulder bags handbags women famous brand 17,00\",\n",
            "                               \"Price\": \"17,00\",\n",
            "                               \"Category\": \"Women's Bags\",\n",
            "                               \"Subcategory\": \"Shoulder Bags\",\n",
            "                               \"Quant"
          ]
        },
        {
          "output_type": "stream",
          "name": "stderr",
          "text": [
            "\n",
            "llama_print_timings:        load time =    8123.89 ms\n",
            "llama_print_timings:      sample time =     257.83 ms /   403 runs   (    0.64 ms per token,  1563.02 tokens per second)\n",
            "llama_print_timings: prompt eval time =   81933.99 ms /   597 tokens (  137.24 ms per token,     7.29 tokens per second)\n",
            "llama_print_timings:        eval time =   75648.08 ms /   402 runs   (  188.18 ms per token,     5.31 tokens per second)\n",
            "llama_print_timings:       total time =  159891.01 ms /   999 tokens\n"
          ]
        },
        {
          "output_type": "execute_result",
          "data": {
            "text/plain": [
              "' {\\n                               \"SKU\": \"WB001\",\\n                               \"Brand\": \"AMELIEGALANTI\",\\n                               \"Description\": \"2016 new casual women shoulder bags famous brand Colors:White,Beige[+5],Blue;Set:Shoes[+100]\",\\n                               \"Price\": \"12,00\",\\n                               \"Category\": \"Women\\'s Bags\",\\n                               \"Subcategory\": \"Shoulder Bags\",\\n                               \"Color\": \"White\",\\n                               \"Set\": \"Shoes\",\\n                               \"Quantity\": \"1\",\\n                               \"Sale\": \"Best Seller Sale\",\\n                               \"Action\": \"Not available\"\\n                           }\\n                           {\\n                               \"SKU\": \"WB002\",\\n                               \"Brand\": \"SheIn\",\\n                               \"Description\": \"Bags Handbags Women Famous Brands Ladies Fashion 16,00\",\\n                               \"Price\": \"16,00\",\\n                               \"Category\": \"Women\\'s Bags\",\\n                               \"Subcategory\": \"Handbags\",\\n                               \"Quantity\": \"1\",\\n                               \"Sale\": \"Best Seller Sale\",\\n                               \"Action\": \"Not available\"\\n                           }\\n                           {\\n                               \"SKU\": \"WB003\",\\n                               \"Brand\": \"2016 New Fashion\",\\n                               \"Description\": \"Shoulder bags handbags women famous brand 17,00\",\\n                               \"Price\": \"17,00\",\\n                               \"Category\": \"Women\\'s Bags\",\\n                               \"Subcategory\": \"Shoulder Bags\",\\n                               \"Quant'"
            ],
            "application/vnd.google.colaboratory.intrinsic+json": {
              "type": "string"
            }
          },
          "metadata": {},
          "execution_count": 20
        }
      ]
    },
    {
      "cell_type": "markdown",
      "source": [
        "##using llama_cpp library and schema\n",
        "\n",
        "\n",
        "\n"
      ],
      "metadata": {
        "id": "kqa0WuvnnQCo"
      }
    },
    {
      "cell_type": "code",
      "source": [
        "from llama_cpp import Llama\n",
        "llm = Llama(\n",
        "      model_path=\"mistral-7b-instruct-v0.1.Q4_K_M.gguf\",\n",
        "      n_gpu_layers=-1, # Uncomment to use GPU acceleration\n",
        "      # seed=1337, # Uncomment to set a specific seed\n",
        "      n_ctx=1000,\n",
        "    max_tokens=1000, # Uncomment to increase the context window\n",
        "      chat_format=\"chatml\"\n",
        ")\n"
      ],
      "metadata": {
        "id": "1_ms_fADmwt0"
      },
      "execution_count": null,
      "outputs": []
    },
    {
      "cell_type": "code",
      "source": [
        "output = llm.create_chat_completion(\n",
        "    messages=[\n",
        "        {\n",
        "            \"role\": \"system\",\n",
        "            \"content\": \"\"\"You are a helpful assistant that outputs in JSON.\"\"\",\n",
        "        },\n",
        "        {\"role\": \"user\", \"content\": input_text},\n",
        "    ],\n",
        "    response_format={\n",
        "        \"type\": \"json_object\",\n",
        "        \"schema\": {\n",
        "            \"type\": \"object\",\n",
        "            \"properties\": {\"SKU ID\": {\"type\": \"string\"},\n",
        "                           \"product description\": {\"type\": \"string\"},\n",
        "                           \"item title\": {\"type\": \"string\"},\n",
        "                           \"price\": {\"type\": \"float\"},\n",
        "                           \"attributes\": {\"type\": \"string\"}},\n",
        "            \"required\": [\"id\",\"product description\",\"item name\",\"price\",\"attributes\"],\n",
        "        },\n",
        "    },\n",
        "    temperature=0.3,\n",
        ")\n",
        "output"
      ],
      "metadata": {
        "colab": {
          "base_uri": "https://localhost:8080/"
        },
        "id": "5HRT3p_tY2NK",
        "outputId": "d32e0a85-4a8a-4f88-b19a-680dab88cd38"
      },
      "execution_count": 37,
      "outputs": [
        {
          "output_type": "stream",
          "name": "stderr",
          "text": [
            "from_string grammar:\n",
            "root ::= object \n",
            "object ::= [{] ws object_11 [}] ws \n",
            "value ::= object | array | string | number | value_6 ws \n",
            "array ::= [[] ws array_15 []] ws \n",
            "string ::= [\"] string_18 [\"] ws \n",
            "number ::= number_19 number_25 number_29 ws \n",
            "value_6 ::= [t] [r] [u] [e] | [f] [a] [l] [s] [e] | [n] [u] [l] [l] \n",
            "ws ::= ws_31 \n",
            "object_8 ::= string [:] ws value object_10 \n",
            "object_9 ::= [,] ws string [:] ws value \n",
            "object_10 ::= object_9 object_10 | \n",
            "object_11 ::= object_8 | \n",
            "array_12 ::= value array_14 \n",
            "array_13 ::= [,] ws value \n",
            "array_14 ::= array_13 array_14 | \n",
            "array_15 ::= array_12 | \n",
            "string_16 ::= [^\"\\] | [\\] string_17 \n",
            "string_17 ::= [\"\\/bfnrt] | [u] [0-9a-fA-F] [0-9a-fA-F] [0-9a-fA-F] [0-9a-fA-F] \n",
            "string_18 ::= string_16 string_18 | \n",
            "number_19 ::= number_20 number_21 \n",
            "number_20 ::= [-] | \n",
            "number_21 ::= [0-9] | [1-9] number_22 \n",
            "number_22 ::= [0-9] number_22 | \n",
            "number_23 ::= [.] number_24 \n",
            "number_24 ::= [0-9] number_24 | [0-9] \n",
            "number_25 ::= number_23 | \n",
            "number_26 ::= [eE] number_27 number_28 \n",
            "number_27 ::= [-+] | \n",
            "number_28 ::= [0-9] number_28 | [0-9] \n",
            "number_29 ::= number_26 | \n",
            "ws_30 ::= [ <U+0009><U+000A>] ws \n",
            "ws_31 ::= ws_30 | \n",
            "\n",
            "\n",
            "llama_print_timings:        load time =   62505.18 ms\n",
            "llama_print_timings:      sample time =    5917.46 ms /   522 runs   (   11.34 ms per token,    88.21 tokens per second)\n",
            "llama_print_timings: prompt eval time =   62504.09 ms /   478 tokens (  130.76 ms per token,     7.65 tokens per second)\n",
            "llama_print_timings:        eval time =   94855.19 ms /   521 runs   (  182.06 ms per token,     5.49 tokens per second)\n",
            "llama_print_timings:       total time =  166186.98 ms /   999 tokens\n"
          ]
        },
        {
          "output_type": "execute_result",
          "data": {
            "text/plain": [
              "{'id': 'chatcmpl-689211a6-abd0-4a6f-97e2-d2d339f59ca0',\n",
              " 'object': 'chat.completion',\n",
              " 'created': 1708880923,\n",
              " 'model': 'mistral-7b-instruct-v0.1.Q4_K_M.gguf',\n",
              " 'choices': [{'index': 0,\n",
              "   'message': {'role': 'assistant',\n",
              "    'content': '{\\n   \"PRICE LIST\":{\\n      \"DEMO-CATALOG\":{\\n         \"WWW\": \"http://www.company.com\",\\n         \"EMAIL\": \"mail@company.com\",\\n         \"PHONE\": \"206-xxx-0822\",\\n         \"PO BOX\": \"P.O. Box 34069 #381 Seattle, WA 981xx-10xx USA\",\\n         \"NEW\": \"Best Seller Sale Action!\",\\n         \"CODES\": [\\n            {\\n               \"DESCRIPTION\": \"Women\\'s Bags\",\\n               \"PRICE\": \"12,00\",\\n               \"SET\": \"Shoes[+100]\"\\n            },\\n            {\\n               \"DESCRIPTION\": \"SheIn Bags Handbags Women Famous Brands Ladies Fashion\",\\n               \"PRICE\": \"16,00\"\\n            },\\n            {\\n               \"DESCRIPTION\": \"2016 New fashion shoulder bags handbags women famous brand\",\\n               \"PRICE\": \"17,00\"\\n            },\\n            {\\n               \"DESCRIPTION\": \"Fashion Small Bag Women Messenger Bags Soft PU Leather Handbags\",\\n               \"PRICE\": \"22,00\"\\n            },\\n            {\\n               \"DESCRIPTION\": \"Famous Brand Luxury Women Leather Handbags Women\\'s Trunk\",\\n               \"PRICE\": \"55,66\"\\n            },\\n            {\\n               \"DESCRIPTION\": \"Realer brand women bag hollow out ombre handbag floral\",\\n               \"PRICE\": \"22,00\"\\n            },\\n            {\\n               \"DESCRIPTION\": \"New Arrival Women Fashion Faux Leather Satchel Bowknot\",\\n               \"PRICE\": \"12,00\"\\n            },\\n            {\\n               \"DESCRIPTION\": \"2016 New Fashion Women PU Leather Handbag High Quality\",\\n               \"PRICE\": \"34,00\"\\n            },\\n            {\\n               \"DESCRIPTION\": \"Ladsoul 2016 women handbag pu leather women shoulder\",\\n               \"PRICE\": \"51,00\"\\n            },\\n            {\\n               \"DESCRIPTION\": \"'},\n",
              "   'finish_reason': 'length'}],\n",
              " 'usage': {'prompt_tokens': 478,\n",
              "  'completion_tokens': 522,\n",
              "  'total_tokens': 1000}}"
            ]
          },
          "metadata": {},
          "execution_count": 37
        }
      ]
    },
    {
      "cell_type": "code",
      "source": [
        "output['choices'][0]['message']['content']"
      ],
      "metadata": {
        "colab": {
          "base_uri": "https://localhost:8080/",
          "height": 145
        },
        "id": "PVfdWVD0dDEv",
        "outputId": "6da2eaa8-6a22-4b73-ad64-6c6b557ac58d"
      },
      "execution_count": 38,
      "outputs": [
        {
          "output_type": "execute_result",
          "data": {
            "text/plain": [
              "'{\\n   \"PRICE LIST\":{\\n      \"DEMO-CATALOG\":{\\n         \"WWW\": \"http://www.company.com\",\\n         \"EMAIL\": \"mail@company.com\",\\n         \"PHONE\": \"206-xxx-0822\",\\n         \"PO BOX\": \"P.O. Box 34069 #381 Seattle, WA 981xx-10xx USA\",\\n         \"NEW\": \"Best Seller Sale Action!\",\\n         \"CODES\": [\\n            {\\n               \"DESCRIPTION\": \"Women\\'s Bags\",\\n               \"PRICE\": \"12,00\",\\n               \"SET\": \"Shoes[+100]\"\\n            },\\n            {\\n               \"DESCRIPTION\": \"SheIn Bags Handbags Women Famous Brands Ladies Fashion\",\\n               \"PRICE\": \"16,00\"\\n            },\\n            {\\n               \"DESCRIPTION\": \"2016 New fashion shoulder bags handbags women famous brand\",\\n               \"PRICE\": \"17,00\"\\n            },\\n            {\\n               \"DESCRIPTION\": \"Fashion Small Bag Women Messenger Bags Soft PU Leather Handbags\",\\n               \"PRICE\": \"22,00\"\\n            },\\n            {\\n               \"DESCRIPTION\": \"Famous Brand Luxury Women Leather Handbags Women\\'s Trunk\",\\n               \"PRICE\": \"55,66\"\\n            },\\n            {\\n               \"DESCRIPTION\": \"Realer brand women bag hollow out ombre handbag floral\",\\n               \"PRICE\": \"22,00\"\\n            },\\n            {\\n               \"DESCRIPTION\": \"New Arrival Women Fashion Faux Leather Satchel Bowknot\",\\n               \"PRICE\": \"12,00\"\\n            },\\n            {\\n               \"DESCRIPTION\": \"2016 New Fashion Women PU Leather Handbag High Quality\",\\n               \"PRICE\": \"34,00\"\\n            },\\n            {\\n               \"DESCRIPTION\": \"Ladsoul 2016 women handbag pu leather women shoulder\",\\n               \"PRICE\": \"51,00\"\\n            },\\n            {\\n               \"DESCRIPTION\": \"'"
            ],
            "application/vnd.google.colaboratory.intrinsic+json": {
              "type": "string"
            }
          },
          "metadata": {},
          "execution_count": 38
        }
      ]
    }
  ]
}